{
 "cells": [
  {
   "cell_type": "markdown",
   "metadata": {},
   "source": [
    "# Creation de Dataframe"
   ]
  },
  {
   "cell_type": "markdown",
   "metadata": {},
   "source": [
    "* on va creer un data frame avec le module pandas\n",
    "* j'espere que les etudiants vont comprendre"
   ]
  },
  {
   "cell_type": "code",
   "execution_count": 4,
   "metadata": {
    "collapsed": false
   },
   "outputs": [],
   "source": [
    "import pandas as pd\n",
    "data = {'prenom': ['Alain', 'Abdel', 'Annie', 'Toto', 'Momo'],\n",
    "        'nom': ['Flouflou', 'Clairclair', \"?\", 'Icano', 'Jolie'],\n",
    "        'age': [42, 52, 36, 24, 73],\n",
    "        'noteintra': [48, 84, 91, \"?\", \"?\"],\n",
    "        'notefinal': [\"92,50\", \"94,00\", 77, 63, 75]}"
   ]
  },
  {
   "cell_type": "code",
   "execution_count": 5,
   "metadata": {
    "collapsed": false
   },
   "outputs": [],
   "source": [
    "# creation du DF\n",
    "df = pd.DataFrame(data, columns=['prenom', 'nom', 'age', 'noteintra', 'notefinal'])"
   ]
  },
  {
   "cell_type": "code",
   "execution_count": null,
   "metadata": {
    "collapsed": true
   },
   "outputs": [],
   "source": []
  }
 ],
 "metadata": {
  "kernelspec": {
   "display_name": "Python 2",
   "language": "python",
   "name": "python2"
  },
  "language_info": {
   "codemirror_mode": {
    "name": "ipython",
    "version": 2
   },
   "file_extension": ".py",
   "mimetype": "text/x-python",
   "name": "python",
   "nbconvert_exporter": "python",
   "pygments_lexer": "ipython2",
   "version": "2.7.11"
  }
 },
 "nbformat": 4,
 "nbformat_minor": 0
}
