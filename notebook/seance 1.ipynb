{
 "cells": [
  {
   "cell_type": "markdown",
   "metadata": {},
   "source": [
    "# Creation de Dataframe"
   ]
  },
  {
   "cell_type": "markdown",
   "metadata": {},
   "source": [
    "* on va creer un data frame avec le module pandas\n",
    "* j'espere que les etudiants vont comprendre"
   ]
  },
  {
   "cell_type": "code",
   "execution_count": 2,
   "metadata": {
    "collapsed": false
   },
   "outputs": [],
   "source": [
    "import pandas as pd\n",
    "data = {'prenom': ['Alain', 'Abdel', 'Annie', 'Toto', 'Momo'],\n",
    "        'nom': ['Flouflou', 'Clairclair', \"?\", 'Icano', 'Jolie'],\n",
    "        'age': [42, 52, 36, 24, 73],\n",
    "        'noteintra': [48, 84, 91, \"?\", \"?\"],\n",
    "        'notefinal': [\"92,50\", \"94,00\", 77, 63, 75]}"
   ]
  },
  {
   "cell_type": "code",
   "execution_count": 3,
   "metadata": {
    "collapsed": false
   },
   "outputs": [],
   "source": [
    "# creation du DF\n",
    "df = pd.DataFrame(data, columns=['prenom', 'nom', 'age', 'noteintra', 'notefinal'])"
   ]
  },
  {
   "cell_type": "code",
   "execution_count": 4,
   "metadata": {
    "collapsed": false
   },
   "outputs": [
    {
     "data": {
      "text/html": [
       "<div>\n",
       "<table border=\"1\" class=\"dataframe\">\n",
       "  <thead>\n",
       "    <tr style=\"text-align: right;\">\n",
       "      <th></th>\n",
       "      <th>prenom</th>\n",
       "      <th>nom</th>\n",
       "      <th>age</th>\n",
       "      <th>noteintra</th>\n",
       "      <th>notefinal</th>\n",
       "    </tr>\n",
       "  </thead>\n",
       "  <tbody>\n",
       "    <tr>\n",
       "      <th>0</th>\n",
       "      <td>Alain</td>\n",
       "      <td>Flouflou</td>\n",
       "      <td>42</td>\n",
       "      <td>48</td>\n",
       "      <td>92,50</td>\n",
       "    </tr>\n",
       "    <tr>\n",
       "      <th>1</th>\n",
       "      <td>Abdel</td>\n",
       "      <td>Clairclair</td>\n",
       "      <td>52</td>\n",
       "      <td>84</td>\n",
       "      <td>94,00</td>\n",
       "    </tr>\n",
       "    <tr>\n",
       "      <th>2</th>\n",
       "      <td>Annie</td>\n",
       "      <td>?</td>\n",
       "      <td>36</td>\n",
       "      <td>91</td>\n",
       "      <td>77</td>\n",
       "    </tr>\n",
       "    <tr>\n",
       "      <th>3</th>\n",
       "      <td>Toto</td>\n",
       "      <td>Icano</td>\n",
       "      <td>24</td>\n",
       "      <td>?</td>\n",
       "      <td>63</td>\n",
       "    </tr>\n",
       "    <tr>\n",
       "      <th>4</th>\n",
       "      <td>Momo</td>\n",
       "      <td>Jolie</td>\n",
       "      <td>73</td>\n",
       "      <td>?</td>\n",
       "      <td>75</td>\n",
       "    </tr>\n",
       "  </tbody>\n",
       "</table>\n",
       "</div>"
      ],
      "text/plain": [
       "  prenom         nom  age noteintra notefinal\n",
       "0  Alain    Flouflou   42        48     92,50\n",
       "1  Abdel  Clairclair   52        84     94,00\n",
       "2  Annie           ?   36        91        77\n",
       "3   Toto       Icano   24         ?        63\n",
       "4   Momo       Jolie   73         ?        75"
      ]
     },
     "execution_count": 4,
     "metadata": {},
     "output_type": "execute_result"
    }
   ],
   "source": [
    "df"
   ]
  },
  {
   "cell_type": "code",
   "execution_count": 5,
   "metadata": {
    "collapsed": true
   },
   "outputs": [],
   "source": [
    "df.to_csv('example.csv')"
   ]
  },
  {
   "cell_type": "code",
   "execution_count": 7,
   "metadata": {
    "collapsed": false
   },
   "outputs": [
    {
     "data": {
      "text/html": [
       "<div>\n",
       "<table border=\"1\" class=\"dataframe\">\n",
       "  <thead>\n",
       "    <tr style=\"text-align: right;\">\n",
       "      <th></th>\n",
       "      <th>Unnamed: 0</th>\n",
       "      <th>prenom</th>\n",
       "      <th>nom</th>\n",
       "      <th>age</th>\n",
       "      <th>noteintra</th>\n",
       "      <th>notefinal</th>\n",
       "    </tr>\n",
       "  </thead>\n",
       "  <tbody>\n",
       "    <tr>\n",
       "      <th>0</th>\n",
       "      <td>0</td>\n",
       "      <td>Alain</td>\n",
       "      <td>Flouflou</td>\n",
       "      <td>42</td>\n",
       "      <td>48.0</td>\n",
       "      <td>92,50</td>\n",
       "    </tr>\n",
       "    <tr>\n",
       "      <th>1</th>\n",
       "      <td>1</td>\n",
       "      <td>Abdel</td>\n",
       "      <td>Clairclair</td>\n",
       "      <td>52</td>\n",
       "      <td>84.0</td>\n",
       "      <td>94,00</td>\n",
       "    </tr>\n",
       "    <tr>\n",
       "      <th>2</th>\n",
       "      <td>2</td>\n",
       "      <td>Annie</td>\n",
       "      <td>NaN</td>\n",
       "      <td>36</td>\n",
       "      <td>91.0</td>\n",
       "      <td>77</td>\n",
       "    </tr>\n",
       "    <tr>\n",
       "      <th>3</th>\n",
       "      <td>3</td>\n",
       "      <td>Toto</td>\n",
       "      <td>Icano</td>\n",
       "      <td>24</td>\n",
       "      <td>NaN</td>\n",
       "      <td>63</td>\n",
       "    </tr>\n",
       "    <tr>\n",
       "      <th>4</th>\n",
       "      <td>4</td>\n",
       "      <td>Momo</td>\n",
       "      <td>Jolie</td>\n",
       "      <td>73</td>\n",
       "      <td>NaN</td>\n",
       "      <td>75</td>\n",
       "    </tr>\n",
       "  </tbody>\n",
       "</table>\n",
       "</div>"
      ],
      "text/plain": [
       "   Unnamed: 0 prenom         nom  age  noteintra notefinal\n",
       "0           0  Alain    Flouflou   42       48.0     92,50\n",
       "1           1  Abdel  Clairclair   52       84.0     94,00\n",
       "2           2  Annie         NaN   36       91.0        77\n",
       "3           3   Toto       Icano   24        NaN        63\n",
       "4           4   Momo       Jolie   73        NaN        75"
      ]
     },
     "execution_count": 7,
     "metadata": {},
     "output_type": "execute_result"
    }
   ],
   "source": [
    "# charger de csv\n",
    "df = pd.read_csv('example.csv', na_values=['?'])\n",
    "df\n"
   ]
  },
  {
   "cell_type": "code",
   "execution_count": 8,
   "metadata": {
    "collapsed": false
   },
   "outputs": [
    {
     "data": {
      "text/html": [
       "<div>\n",
       "<table border=\"1\" class=\"dataframe\">\n",
       "  <thead>\n",
       "    <tr style=\"text-align: right;\">\n",
       "      <th></th>\n",
       "      <th>0</th>\n",
       "      <th>1</th>\n",
       "      <th>2</th>\n",
       "      <th>3</th>\n",
       "      <th>4</th>\n",
       "      <th>5</th>\n",
       "    </tr>\n",
       "  </thead>\n",
       "  <tbody>\n",
       "    <tr>\n",
       "      <th>0</th>\n",
       "      <td>NaN</td>\n",
       "      <td>prenom</td>\n",
       "      <td>nom</td>\n",
       "      <td>age</td>\n",
       "      <td>noteintra</td>\n",
       "      <td>notefinal</td>\n",
       "    </tr>\n",
       "    <tr>\n",
       "      <th>1</th>\n",
       "      <td>0.0</td>\n",
       "      <td>Alain</td>\n",
       "      <td>Flouflou</td>\n",
       "      <td>42</td>\n",
       "      <td>48</td>\n",
       "      <td>92,50</td>\n",
       "    </tr>\n",
       "    <tr>\n",
       "      <th>2</th>\n",
       "      <td>1.0</td>\n",
       "      <td>Abdel</td>\n",
       "      <td>Clairclair</td>\n",
       "      <td>52</td>\n",
       "      <td>84</td>\n",
       "      <td>94,00</td>\n",
       "    </tr>\n",
       "    <tr>\n",
       "      <th>3</th>\n",
       "      <td>2.0</td>\n",
       "      <td>Annie</td>\n",
       "      <td>?</td>\n",
       "      <td>36</td>\n",
       "      <td>91</td>\n",
       "      <td>77</td>\n",
       "    </tr>\n",
       "    <tr>\n",
       "      <th>4</th>\n",
       "      <td>3.0</td>\n",
       "      <td>Toto</td>\n",
       "      <td>Icano</td>\n",
       "      <td>24</td>\n",
       "      <td>?</td>\n",
       "      <td>63</td>\n",
       "    </tr>\n",
       "    <tr>\n",
       "      <th>5</th>\n",
       "      <td>4.0</td>\n",
       "      <td>Momo</td>\n",
       "      <td>Jolie</td>\n",
       "      <td>73</td>\n",
       "      <td>?</td>\n",
       "      <td>75</td>\n",
       "    </tr>\n",
       "  </tbody>\n",
       "</table>\n",
       "</div>"
      ],
      "text/plain": [
       "     0       1           2    3          4          5\n",
       "0  NaN  prenom         nom  age  noteintra  notefinal\n",
       "1  0.0   Alain    Flouflou   42         48      92,50\n",
       "2  1.0   Abdel  Clairclair   52         84      94,00\n",
       "3  2.0   Annie           ?   36         91         77\n",
       "4  3.0    Toto       Icano   24          ?         63\n",
       "5  4.0    Momo       Jolie   73          ?         75"
      ]
     },
     "execution_count": 8,
     "metadata": {},
     "output_type": "execute_result"
    }
   ],
   "source": [
    "df = pd.read_csv('example.csv', header=None)\n",
    "df\n"
   ]
  },
  {
   "cell_type": "code",
   "execution_count": 10,
   "metadata": {
    "collapsed": false
   },
   "outputs": [
    {
     "data": {
      "text/html": [
       "<div>\n",
       "<table border=\"1\" class=\"dataframe\">\n",
       "  <thead>\n",
       "    <tr style=\"text-align: right;\">\n",
       "      <th></th>\n",
       "      <th>UID</th>\n",
       "      <th>Prenom</th>\n",
       "      <th>Nom</th>\n",
       "      <th>Age</th>\n",
       "      <th>Note intra</th>\n",
       "      <th>Note final</th>\n",
       "    </tr>\n",
       "  </thead>\n",
       "  <tbody>\n",
       "    <tr>\n",
       "      <th>0</th>\n",
       "      <td>NaN</td>\n",
       "      <td>prenom</td>\n",
       "      <td>nom</td>\n",
       "      <td>age</td>\n",
       "      <td>noteintra</td>\n",
       "      <td>notefinal</td>\n",
       "    </tr>\n",
       "    <tr>\n",
       "      <th>1</th>\n",
       "      <td>0.0</td>\n",
       "      <td>Alain</td>\n",
       "      <td>Flouflou</td>\n",
       "      <td>42</td>\n",
       "      <td>48</td>\n",
       "      <td>92,50</td>\n",
       "    </tr>\n",
       "    <tr>\n",
       "      <th>2</th>\n",
       "      <td>1.0</td>\n",
       "      <td>Abdel</td>\n",
       "      <td>Clairclair</td>\n",
       "      <td>52</td>\n",
       "      <td>84</td>\n",
       "      <td>94,00</td>\n",
       "    </tr>\n",
       "    <tr>\n",
       "      <th>3</th>\n",
       "      <td>2.0</td>\n",
       "      <td>Annie</td>\n",
       "      <td>?</td>\n",
       "      <td>36</td>\n",
       "      <td>91</td>\n",
       "      <td>77</td>\n",
       "    </tr>\n",
       "    <tr>\n",
       "      <th>4</th>\n",
       "      <td>3.0</td>\n",
       "      <td>Toto</td>\n",
       "      <td>Icano</td>\n",
       "      <td>24</td>\n",
       "      <td>?</td>\n",
       "      <td>63</td>\n",
       "    </tr>\n",
       "    <tr>\n",
       "      <th>5</th>\n",
       "      <td>4.0</td>\n",
       "      <td>Momo</td>\n",
       "      <td>Jolie</td>\n",
       "      <td>73</td>\n",
       "      <td>?</td>\n",
       "      <td>75</td>\n",
       "    </tr>\n",
       "  </tbody>\n",
       "</table>\n",
       "</div>"
      ],
      "text/plain": [
       "   UID  Prenom         Nom  Age Note intra Note final\n",
       "0  NaN  prenom         nom  age  noteintra  notefinal\n",
       "1  0.0   Alain    Flouflou   42         48      92,50\n",
       "2  1.0   Abdel  Clairclair   52         84      94,00\n",
       "3  2.0   Annie           ?   36         91         77\n",
       "4  3.0    Toto       Icano   24          ?         63\n",
       "5  4.0    Momo       Jolie   73          ?         75"
      ]
     },
     "execution_count": 10,
     "metadata": {},
     "output_type": "execute_result"
    }
   ],
   "source": [
    "# Charger csv avec specification de noms de colonnes\n",
    "df = pd.read_csv('example.csv', names=['UID', 'Prenom', 'Nom', 'Age', 'Note intra', 'Note final'])\n",
    "df\n"
   ]
  },
  {
   "cell_type": "code",
   "execution_count": 11,
   "metadata": {
    "collapsed": false
   },
   "outputs": [
    {
     "data": {
      "text/html": [
       "<div>\n",
       "<table border=\"1\" class=\"dataframe\">\n",
       "  <thead>\n",
       "    <tr style=\"text-align: right;\">\n",
       "      <th></th>\n",
       "      <th>Unnamed: 0</th>\n",
       "      <th>prenom</th>\n",
       "      <th>nom</th>\n",
       "      <th>age</th>\n",
       "      <th>noteintra</th>\n",
       "      <th>notefinal</th>\n",
       "    </tr>\n",
       "  </thead>\n",
       "  <tbody>\n",
       "    <tr>\n",
       "      <th>0</th>\n",
       "      <td>False</td>\n",
       "      <td>False</td>\n",
       "      <td>False</td>\n",
       "      <td>False</td>\n",
       "      <td>False</td>\n",
       "      <td>False</td>\n",
       "    </tr>\n",
       "    <tr>\n",
       "      <th>1</th>\n",
       "      <td>False</td>\n",
       "      <td>False</td>\n",
       "      <td>False</td>\n",
       "      <td>False</td>\n",
       "      <td>False</td>\n",
       "      <td>False</td>\n",
       "    </tr>\n",
       "    <tr>\n",
       "      <th>2</th>\n",
       "      <td>False</td>\n",
       "      <td>False</td>\n",
       "      <td>True</td>\n",
       "      <td>False</td>\n",
       "      <td>False</td>\n",
       "      <td>False</td>\n",
       "    </tr>\n",
       "    <tr>\n",
       "      <th>3</th>\n",
       "      <td>False</td>\n",
       "      <td>False</td>\n",
       "      <td>False</td>\n",
       "      <td>False</td>\n",
       "      <td>True</td>\n",
       "      <td>False</td>\n",
       "    </tr>\n",
       "    <tr>\n",
       "      <th>4</th>\n",
       "      <td>False</td>\n",
       "      <td>False</td>\n",
       "      <td>False</td>\n",
       "      <td>False</td>\n",
       "      <td>True</td>\n",
       "      <td>False</td>\n",
       "    </tr>\n",
       "  </tbody>\n",
       "</table>\n",
       "</div>"
      ],
      "text/plain": [
       "  Unnamed: 0 prenom    nom    age noteintra notefinal\n",
       "0      False  False  False  False     False     False\n",
       "1      False  False  False  False     False     False\n",
       "2      False  False   True  False     False     False\n",
       "3      False  False  False  False      True     False\n",
       "4      False  False  False  False      True     False"
      ]
     },
     "execution_count": 11,
     "metadata": {},
     "output_type": "execute_result"
    }
   ],
   "source": [
    "# Charger csv en specifiant \"?\" comme valeurs manquantes\n",
    "\n",
    "df = pd.read_csv('example.csv', na_values=['?'])\n",
    "pd.isnull(df)\n"
   ]
  },
  {
   "cell_type": "code",
   "execution_count": null,
   "metadata": {
    "collapsed": true
   },
   "outputs": [],
   "source": []
  }
 ],
 "metadata": {
  "kernelspec": {
   "display_name": "Python 2",
   "language": "python",
   "name": "python2"
  },
  "language_info": {
   "codemirror_mode": {
    "name": "ipython",
    "version": 2
   },
   "file_extension": ".py",
   "mimetype": "text/x-python",
   "name": "python",
   "nbconvert_exporter": "python",
   "pygments_lexer": "ipython2",
   "version": "2.7.11"
  }
 },
 "nbformat": 4,
 "nbformat_minor": 0
}
