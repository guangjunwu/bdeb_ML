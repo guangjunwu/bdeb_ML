{
 "cells": [
  {
   "cell_type": "markdown",
   "metadata": {},
   "source": [
    "# Creation de Dataframe"
   ]
  },
  {
   "cell_type": "markdown",
   "metadata": {},
   "source": [
    "* on va creer un data frame avec le module pandas\n",
    "* j'espere que les etudiants vont comprendre"
   ]
  },
  {
   "cell_type": "code",
   "execution_count": 2,
   "metadata": {
    "collapsed": false
   },
   "outputs": [],
   "source": [
    "import pandas as pd\n",
    "data = {'prenom': ['Alain', 'Abdel', 'Annie', 'Toto', 'Momo'],\n",
    "        'nom': ['Flouflou', 'Clairclair', \"?\", 'Icano', 'Jolie'],\n",
    "        'age': [42, 52, 36, 24, 73],\n",
    "        'noteintra': [48, 84, 91, \"?\", \"?\"],\n",
    "        'notefinal': [\"92,50\", \"94,00\", 77, 63, 75]}"
   ]
  },
  {
   "cell_type": "code",
   "execution_count": 3,
   "metadata": {
    "collapsed": false
   },
   "outputs": [],
   "source": [
    "# creation du DF\n",
    "df = pd.DataFrame(data, columns=['prenom', 'nom', 'age', 'noteintra', 'notefinal'])"
   ]
  },
  {
   "cell_type": "code",
   "execution_count": 4,
   "metadata": {
    "collapsed": false
   },
   "outputs": [
    {
     "data": {
      "text/html": [
       "<div>\n",
       "<table border=\"1\" class=\"dataframe\">\n",
       "  <thead>\n",
       "    <tr style=\"text-align: right;\">\n",
       "      <th></th>\n",
       "      <th>prenom</th>\n",
       "      <th>nom</th>\n",
       "      <th>age</th>\n",
       "      <th>noteintra</th>\n",
       "      <th>notefinal</th>\n",
       "    </tr>\n",
       "  </thead>\n",
       "  <tbody>\n",
       "    <tr>\n",
       "      <th>0</th>\n",
       "      <td>Alain</td>\n",
       "      <td>Flouflou</td>\n",
       "      <td>42</td>\n",
       "      <td>48</td>\n",
       "      <td>92,50</td>\n",
       "    </tr>\n",
       "    <tr>\n",
       "      <th>1</th>\n",
       "      <td>Abdel</td>\n",
       "      <td>Clairclair</td>\n",
       "      <td>52</td>\n",
       "      <td>84</td>\n",
       "      <td>94,00</td>\n",
       "    </tr>\n",
       "    <tr>\n",
       "      <th>2</th>\n",
       "      <td>Annie</td>\n",
       "      <td>?</td>\n",
       "      <td>36</td>\n",
       "      <td>91</td>\n",
       "      <td>77</td>\n",
       "    </tr>\n",
       "    <tr>\n",
       "      <th>3</th>\n",
       "      <td>Toto</td>\n",
       "      <td>Icano</td>\n",
       "      <td>24</td>\n",
       "      <td>?</td>\n",
       "      <td>63</td>\n",
       "    </tr>\n",
       "    <tr>\n",
       "      <th>4</th>\n",
       "      <td>Momo</td>\n",
       "      <td>Jolie</td>\n",
       "      <td>73</td>\n",
       "      <td>?</td>\n",
       "      <td>75</td>\n",
       "    </tr>\n",
       "  </tbody>\n",
       "</table>\n",
       "</div>"
      ],
      "text/plain": [
       "  prenom         nom  age noteintra notefinal\n",
       "0  Alain    Flouflou   42        48     92,50\n",
       "1  Abdel  Clairclair   52        84     94,00\n",
       "2  Annie           ?   36        91        77\n",
       "3   Toto       Icano   24         ?        63\n",
       "4   Momo       Jolie   73         ?        75"
      ]
     },
     "execution_count": 4,
     "metadata": {},
     "output_type": "execute_result"
    }
   ],
   "source": [
    "df"
   ]
  },
  {
   "cell_type": "code",
   "execution_count": null,
   "metadata": {
    "collapsed": true
   },
   "outputs": [],
   "source": []
  }
 ],
 "metadata": {
  "kernelspec": {
   "display_name": "Python 2",
   "language": "python",
   "name": "python2"
  },
  "language_info": {
   "codemirror_mode": {
    "name": "ipython",
    "version": 2
   },
   "file_extension": ".py",
   "mimetype": "text/x-python",
   "name": "python",
   "nbconvert_exporter": "python",
   "pygments_lexer": "ipython2",
   "version": "2.7.11"
  }
 },
 "nbformat": 4,
 "nbformat_minor": 0
}
