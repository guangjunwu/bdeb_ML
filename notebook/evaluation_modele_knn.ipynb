{
 "cells": [
  {
   "cell_type": "markdown",
   "metadata": {},
   "source": [
    "# Evaluation de Modele selon des paramètres"
   ]
  },
  {
   "cell_type": "markdown",
   "metadata": {},
   "source": [
    "# Objectif\n",
    "* Prédire l'espece d'une fleur iris en utilisant KNN avec K variable\n",
    "* Trouver la valeur appropriée de K\n",
    "* Obtenir le modèle qui généralise correctement "
   ]
  },
  {
   "cell_type": "markdown",
   "metadata": {},
   "source": [
    "# Train et test sur tout le dataset"
   ]
  },
  {
   "cell_type": "markdown",
   "metadata": {},
   "source": [
    "* Apprentissage du modele sur tout le dataset.\n",
    "* Effectur le Test du modele sur le meme dataset, \n",
    "* Evaluer et comparer la classe predite avec la vraie classe"
   ]
  },
  {
   "cell_type": "code",
   "execution_count": 2,
   "metadata": {
    "collapsed": true
   },
   "outputs": [],
   "source": [
    "# Lire iris data dans un DataFrame\n",
    "#votre code ici\n"
   ]
  },
  {
   "cell_type": "markdown",
   "metadata": {},
   "source": [
    "* utiliser KNN avec K = 50 par exemple"
   ]
  },
  {
   "cell_type": "code",
   "execution_count": 3,
   "metadata": {
    "collapsed": true
   },
   "outputs": [],
   "source": [
    "# instantier le modele\n",
    "#votre code ici\n",
    "# Effectuer l'apprentissage du model sur tout le dataset\n",
    "#votre code ici\n",
    "# predire la réponse pour les observations dans X, test du model\n",
    "#votre code ici"
   ]
  },
  {
   "cell_type": "code",
   "execution_count": 4,
   "metadata": {
    "collapsed": true
   },
   "outputs": [],
   "source": [
    "# stocker les réponses prédites dans y_pred\n",
    "#votre code ici"
   ]
  },
  {
   "cell_type": "markdown",
   "metadata": {},
   "source": [
    "* Determiner un metrique tel que Accuracy"
   ]
  },
  {
   "cell_type": "code",
   "execution_count": 5,
   "metadata": {
    "collapsed": true
   },
   "outputs": [],
   "source": [
    "# Metrique d'évaluation - Accuracy de classification\n",
    "\n",
    "#votre code ici\n",
    "\n",
    "#conclusion ! Est ce qu'on a training accuracy ou testing accuracy ?"
   ]
  },
  {
   "cell_type": "markdown",
   "metadata": {},
   "source": [
    "* utiliser KNN avec K = 1 maintenant"
   ]
  },
  {
   "cell_type": "code",
   "execution_count": 6,
   "metadata": {
    "collapsed": true
   },
   "outputs": [],
   "source": [
    "#calculer Accuracy\n",
    "#votre code ici\n",
    "\n",
    "#conclusion: est ce qu'on a un problème avec cette approche ?\n"
   ]
  },
  {
   "cell_type": "markdown",
   "metadata": {},
   "source": [
    "# Evaluation procedure #2: Train/test split"
   ]
  },
  {
   "cell_type": "markdown",
   "metadata": {},
   "source": [
    "* Split du dataset en deux ensemble:  training set et testing set.\n",
    "* apprentissage du modele sur le training set.\n",
    "* Test du modele sur le testing set \n",
    "* Evaluer le modele"
   ]
  },
  {
   "cell_type": "code",
   "execution_count": 7,
   "metadata": {
    "collapsed": true
   },
   "outputs": [],
   "source": [
    "#utiliser la fonction train_test_split avec taille test de 40% sans random_state\n",
    "# Utiliser X_train, X_test, y_train, y_test\n",
    "#votre code ici\n",
    "\n",
    "#afficher les différentes shape\n",
    "#votre code ici\n",
    "\n",
    "#afficher le premier element de chaque ensemble\n",
    "#votre code ici"
   ]
  },
  {
   "cell_type": "markdown",
   "metadata": {},
   "source": [
    "* Effet du paramètre random_state"
   ]
  },
  {
   "cell_type": "markdown",
   "metadata": {},
   "source": [
    "* refaire le meme avec random_state = 4"
   ]
  },
  {
   "cell_type": "code",
   "execution_count": 8,
   "metadata": {
    "collapsed": true
   },
   "outputs": [],
   "source": [
    "# Utiliser X_train, X_test, y_train, y_test\n",
    "#votre code ici\n",
    "\n",
    "#afficher les différentes shape\n",
    "#votre code ici\n",
    "\n",
    "#afficher le premier element de chaque ensemble\n",
    "#votre code ici"
   ]
  },
  {
   "cell_type": "markdown",
   "metadata": {},
   "source": [
    "* Effectuer apprentissage avec K=1"
   ]
  },
  {
   "cell_type": "code",
   "execution_count": 9,
   "metadata": {
    "collapsed": true
   },
   "outputs": [],
   "source": [
    "#Etape 1: split en traning et test avec random state = 4\n",
    "#votre code ici\n",
    "\n",
    "#Etape 2: faire l'apprentissage\n",
    "#votre code ici\n",
    "\n",
    "#Etape 3: faire le test du modèle avec l'ensemble d'apprentissage\n",
    "#votre code ici\n",
    "\n",
    "#Etape 4: determiner accuracy\n",
    "#votre code ici\n",
    "\n",
    "#Est ce que vous avez une training accuracy ou testing accuracy ?"
   ]
  },
  {
   "cell_type": "markdown",
   "metadata": {},
   "source": [
    "* Effectuer apprentissage avec K=50"
   ]
  },
  {
   "cell_type": "code",
   "execution_count": 10,
   "metadata": {
    "collapsed": true
   },
   "outputs": [],
   "source": [
    "#Etape 1: split en traning et test avec random state = 4\n",
    "#votre code ici\n",
    "\n",
    "#Etape 2: faire l'apprentissage\n",
    "#votre code ici\n",
    "\n",
    "#Etape 3: faire le test du modèle avec l'ensemble d'apprentissage\n",
    "#votre code ici\n",
    "\n",
    "#Etape 4: determiner accuracy\n",
    "#votre code ici"
   ]
  },
  {
   "cell_type": "code",
   "execution_count": 11,
   "metadata": {
    "collapsed": true
   },
   "outputs": [],
   "source": [
    "#Comparer avec l'approche où un seul ensemble de données\n",
    "\n",
    "#Votre conclusion"
   ]
  },
  {
   "cell_type": "markdown",
   "metadata": {},
   "source": [
    "# Prediction avec un echantillon out-of-sample"
   ]
  },
  {
   "cell_type": "markdown",
   "metadata": {},
   "source": [
    "* On prend un echantillon completement inconnu"
   ]
  },
  {
   "cell_type": "code",
   "execution_count": null,
   "metadata": {
    "collapsed": true
   },
   "outputs": [],
   "source": [
    "#Instantier le modele avec K égale à valeur optimale (comment?)\n",
    "#votre code ici\n",
    "\n",
    "#Effectuer l'apprentissage avec X et y  (ne pas prendre X_train et y_train)\n",
    "#votre code ici\n",
    "\n",
    "#Faire une prediction avec l'échantillon [3,5,4,5]\n",
    "#votre code ici"
   ]
  }
 ],
 "metadata": {
  "kernelspec": {
   "display_name": "Python 2",
   "language": "python",
   "name": "python2"
  },
  "language_info": {
   "codemirror_mode": {
    "name": "ipython",
    "version": 2
   },
   "file_extension": ".py",
   "mimetype": "text/x-python",
   "name": "python",
   "nbconvert_exporter": "python",
   "pygments_lexer": "ipython2",
   "version": "2.7.11"
  }
 },
 "nbformat": 4,
 "nbformat_minor": 0
}
