{
 "cells": [
  {
   "cell_type": "markdown",
   "metadata": {},
   "source": [
    "# Advanced Regression Linear example"
   ]
  },
  {
   "cell_type": "markdown",
   "metadata": {},
   "source": [
    "Prédire le prix de vente d'une voiture comme une fonction des attributs de la voiture par la mise en place et l’exploitation de l’algorithme de régression linéaire. On utilisera aussi des étapes de pré-traitement et sélection appropriée des features et du data"
   ]
  },
  {
   "cell_type": "code",
   "execution_count": 1,
   "metadata": {
    "collapsed": true
   },
   "outputs": [],
   "source": [
    "# https://www.dataquest.io/blog/machine-learning-python/\n",
    "# -*- coding: utf-8 -*-\n",
    "import numpy as np\n",
    "import matplotlib.pyplot as plt\n",
    "import pandas as pd\n"
   ]
  },
  {
   "cell_type": "code",
   "execution_count": 41,
   "metadata": {
    "collapsed": false
   },
   "outputs": [
    {
     "name": "stdout",
     "output_type": "stream",
     "text": [
      "(205, 26)\n"
     ]
    },
    {
     "data": {
      "text/html": [
       "<div>\n",
       "<table border=\"1\" class=\"dataframe\">\n",
       "  <thead>\n",
       "    <tr style=\"text-align: right;\">\n",
       "      <th></th>\n",
       "      <th>length</th>\n",
       "      <th>width</th>\n",
       "      <th>height</th>\n",
       "      <th>curb-weight</th>\n",
       "      <th>engine-type</th>\n",
       "      <th>num-of-cylinders</th>\n",
       "      <th>engine-size</th>\n",
       "      <th>fuel-system</th>\n",
       "      <th>bore</th>\n",
       "      <th>stroke</th>\n",
       "    </tr>\n",
       "  </thead>\n",
       "  <tbody>\n",
       "    <tr>\n",
       "      <th>0</th>\n",
       "      <td>168.8</td>\n",
       "      <td>64.1</td>\n",
       "      <td>48.8</td>\n",
       "      <td>2548</td>\n",
       "      <td>dohc</td>\n",
       "      <td>four</td>\n",
       "      <td>130</td>\n",
       "      <td>mpfi</td>\n",
       "      <td>3.47</td>\n",
       "      <td>2.68</td>\n",
       "    </tr>\n",
       "    <tr>\n",
       "      <th>1</th>\n",
       "      <td>168.8</td>\n",
       "      <td>64.1</td>\n",
       "      <td>48.8</td>\n",
       "      <td>2548</td>\n",
       "      <td>dohc</td>\n",
       "      <td>four</td>\n",
       "      <td>130</td>\n",
       "      <td>mpfi</td>\n",
       "      <td>3.47</td>\n",
       "      <td>2.68</td>\n",
       "    </tr>\n",
       "    <tr>\n",
       "      <th>2</th>\n",
       "      <td>171.2</td>\n",
       "      <td>65.5</td>\n",
       "      <td>52.4</td>\n",
       "      <td>2823</td>\n",
       "      <td>ohcv</td>\n",
       "      <td>six</td>\n",
       "      <td>152</td>\n",
       "      <td>mpfi</td>\n",
       "      <td>2.68</td>\n",
       "      <td>3.47</td>\n",
       "    </tr>\n",
       "    <tr>\n",
       "      <th>3</th>\n",
       "      <td>176.6</td>\n",
       "      <td>66.2</td>\n",
       "      <td>54.3</td>\n",
       "      <td>2337</td>\n",
       "      <td>ohc</td>\n",
       "      <td>four</td>\n",
       "      <td>109</td>\n",
       "      <td>mpfi</td>\n",
       "      <td>3.19</td>\n",
       "      <td>3.40</td>\n",
       "    </tr>\n",
       "    <tr>\n",
       "      <th>4</th>\n",
       "      <td>176.6</td>\n",
       "      <td>66.4</td>\n",
       "      <td>54.3</td>\n",
       "      <td>2824</td>\n",
       "      <td>ohc</td>\n",
       "      <td>five</td>\n",
       "      <td>136</td>\n",
       "      <td>mpfi</td>\n",
       "      <td>3.19</td>\n",
       "      <td>3.40</td>\n",
       "    </tr>\n",
       "  </tbody>\n",
       "</table>\n",
       "</div>"
      ],
      "text/plain": [
       "   length  width  height  curb-weight engine-type num-of-cylinders  \\\n",
       "0   168.8   64.1    48.8         2548        dohc             four   \n",
       "1   168.8   64.1    48.8         2548        dohc             four   \n",
       "2   171.2   65.5    52.4         2823        ohcv              six   \n",
       "3   176.6   66.2    54.3         2337         ohc             four   \n",
       "4   176.6   66.4    54.3         2824         ohc             five   \n",
       "\n",
       "   engine-size fuel-system  bore  stroke  \n",
       "0          130        mpfi  3.47    2.68  \n",
       "1          130        mpfi  3.47    2.68  \n",
       "2          152        mpfi  2.68    3.47  \n",
       "3          109        mpfi  3.19    3.40  \n",
       "4          136        mpfi  3.19    3.40  "
      ]
     },
     "execution_count": 41,
     "metadata": {},
     "output_type": "execute_result"
    }
   ],
   "source": [
    "# Charger le dataset automotive\n",
    "#charger le fichier en remplacant les ? par NA\n",
    "data = pd.read_csv(\"imports-85.data\", na_values=['?'])\n",
    "#data represente les données du dataset incluant la cible\n",
    "print data.shape\n",
    "#data[:5]\n",
    "#data.iloc[:5,:10]\n",
    "data.iloc[:5,10:20]\n",
    "#data.iloc[:5,20:]\n",
    "#data.describe()\n"
   ]
  },
  {
   "cell_type": "code",
   "execution_count": 39,
   "metadata": {
    "collapsed": false
   },
   "outputs": [],
   "source": [
    "#Affichage des données \n",
    "# print data\n",
    "\n"
   ]
  },
  {
   "cell_type": "code",
   "execution_count": 5,
   "metadata": {
    "collapsed": false
   },
   "outputs": [
    {
     "name": "stdout",
     "output_type": "stream",
     "text": [
      "              price\n",
      "count    201.000000\n",
      "mean   13207.129353\n",
      "std     7947.066342\n",
      "min     5118.000000\n",
      "25%     7775.000000\n",
      "50%    10295.000000\n",
      "75%    16500.000000\n",
      "max    45400.000000\n"
     ]
    }
   ],
   "source": [
    "#Quelques statistiques sur la cible\n",
    "subset = data.iloc[:,25:26]\n",
    "print subset.describe()\n"
   ]
  },
  {
   "cell_type": "code",
   "execution_count": 46,
   "metadata": {
    "collapsed": false
   },
   "outputs": [
    {
     "name": "stdout",
     "output_type": "stream",
     "text": [
      "(205, 25)\n"
     ]
    }
   ],
   "source": [
    "#Supprimer la colonne 2  normalized losses\n",
    "cols =[1,]\n",
    "subset_1 = data.drop(data.columns[cols], axis=1)\n",
    "print subset_1.shape\n",
    "#data.columns[cols] #Index([u'normalized-losses'], dtype='object')"
   ]
  },
  {
   "cell_type": "code",
   "execution_count": 7,
   "metadata": {
    "collapsed": false
   },
   "outputs": [
    {
     "name": "stdout",
     "output_type": "stream",
     "text": [
      "   symboling         make fuel-type aspiration num-of-doors   body-style\n",
      "0          3  alfa-romero       gas        std          two  convertible\n",
      "1          3  alfa-romero       gas        std          two  convertible\n",
      "2          1  alfa-romero       gas        std          two    hatchback\n",
      "3          2         audi       gas        std         four        sedan\n",
      "4          2         audi       gas        std         four        sedan\n"
     ]
    }
   ],
   "source": [
    "#print 5 lignes subset_1 en prenant seulement  5 colonnes\n",
    "print subset_1.iloc[:5,:6]\n"
   ]
  },
  {
   "cell_type": "code",
   "execution_count": 8,
   "metadata": {
    "collapsed": false
   },
   "outputs": [
    {
     "name": "stdout",
     "output_type": "stream",
     "text": [
      "(193, 25)\n"
     ]
    }
   ],
   "source": [
    "#Supprimer les lignes avec données incompletes NA ou NaN\n",
    "subset_2 = subset_1.dropna()\n",
    "print subset_2.shape\n"
   ]
  },
  {
   "cell_type": "code",
   "execution_count": 9,
   "metadata": {
    "collapsed": false
   },
   "outputs": [
    {
     "name": "stdout",
     "output_type": "stream",
     "text": [
      "Apres selection des features\n",
      "(193, 8)\n"
     ]
    }
   ],
   "source": [
    "#Selection des features suivantes\n",
    "#make, body-style, wheel-base, engine-size, \n",
    "#horsepower, peak-rpm, highway-mpg, price \n",
    "#drop colonnes autres que ceux qui sont dans le modele ci-dessus   \n",
    "cols=[\"symboling\", \"fuel-type\",\"aspiration\",    \n",
    "\"num-of-doors\",   \n",
    "\"drive-wheels\",   \n",
    " \"engine-location\",     \n",
    " \"length\",  \n",
    "\"width\", \"height\",   \n",
    "\"curb-weight\", \"engine-type\",\"num-of-cylinders\",\n",
    "\"fuel-system\", \"bore\",\"stroke\",  \"compression-ratio\",\"city-mpg\"] \n",
    " \n",
    "subset_f = subset_2.drop(cols, axis=1)  \n",
    "print \"Apres selection des features\"\n",
    "print subset_f.shape  \n"
   ]
  },
  {
   "cell_type": "code",
   "execution_count": 10,
   "metadata": {
    "collapsed": false
   },
   "outputs": [
    {
     "name": "stdout",
     "output_type": "stream",
     "text": [
      "          make   body-style  wheel-base  engine-size  horsepower  peak-rpm  \\\n",
      "0  alfa-romero  convertible        88.6          130       111.0    5000.0   \n",
      "1  alfa-romero  convertible        88.6          130       111.0    5000.0   \n",
      "2  alfa-romero    hatchback        94.5          152       154.0    5000.0   \n",
      "3         audi        sedan        99.8          109       102.0    5500.0   \n",
      "4         audi        sedan        99.4          136       115.0    5500.0   \n",
      "\n",
      "   highway-mpg    price  \n",
      "0           27  13495.0  \n",
      "1           27  16500.0  \n",
      "2           26  16500.0  \n",
      "3           30  13950.0  \n",
      "4           22  17450.0  \n"
     ]
    }
   ],
   "source": [
    "#print 5 rows de subset_6  \n",
    "print subset_f.iloc[:5,:]\n"
   ]
  },
  {
   "cell_type": "code",
   "execution_count": 11,
   "metadata": {
    "collapsed": false
   },
   "outputs": [
    {
     "data": {
      "image/png": "[encoded data removed]",
      "text/plain": [
       "<matplotlib.figure.Figure at 0x6394530>"
      ]
     },
     "metadata": {},
     "output_type": "display_data"
    }
   ],
   "source": [
    "# Plot outputs\n",
    "import pylab as pl\n",
    "%matplotlib inline\n",
    "pl.plot( subset_f.iloc[:,4:5],subset_f.iloc[:,7:8],'ro')\n",
    "pl.xlabel('horsepower')\n",
    "pl.ylabel('prix')\n",
    "pl.show()\n"
   ]
  },
  {
   "cell_type": "code",
   "execution_count": 12,
   "metadata": {
    "collapsed": false
   },
   "outputs": [
    {
     "data": {
      "image/png": "[encoded data removed]",
      "text/plain": [
       "<matplotlib.figure.Figure at 0x63949d0>"
      ]
     },
     "metadata": {},
     "output_type": "display_data"
    }
   ],
   "source": [
    "# Plot outputs\n",
    "import pylab as pl\n",
    "%matplotlib inline\n",
    "pl.plot( subset_f.iloc[:,6:7],subset_f.iloc[:,7:8],'ro')\n",
    "pl.xlabel('highway-mpg')\n",
    "pl.ylabel('prix')\n",
    "pl.show()\n"
   ]
  },
  {
   "cell_type": "markdown",
   "metadata": {},
   "source": [
    "# test et training data "
   ]
  },
  {
   "cell_type": "code",
   "execution_count": 13,
   "metadata": {
    "collapsed": true
   },
   "outputs": [],
   "source": [
    "# Import de la fonction pour le split \n",
    "from sklearn.cross_validation import train_test_split \n"
   ]
  },
  {
   "cell_type": "code",
   "execution_count": 14,
   "metadata": {
    "collapsed": true
   },
   "outputs": [],
   "source": [
    "# Generer le training set.   \n",
    "train = subset_f.sample(frac=0.75, random_state=1) \n"
   ]
  },
  {
   "cell_type": "code",
   "execution_count": 15,
   "metadata": {
    "collapsed": false
   },
   "outputs": [
    {
     "name": "stdout",
     "output_type": "stream",
     "text": [
      "shape de training\n",
      "(145, 8)\n"
     ]
    }
   ],
   "source": [
    "# Print shapes de l'ensemble de training   \n",
    "print \"shape de training\"\n",
    "print train.shape\n"
   ]
  },
  {
   "cell_type": "code",
   "execution_count": 16,
   "metadata": {
    "collapsed": false
   },
   "outputs": [
    {
     "name": "stdout",
     "output_type": "stream",
     "text": [
      "shape de test\n",
      "(48, 8)\n"
     ]
    }
   ],
   "source": [
    "# Selectionner le reste pour le test. \n",
    "test = subset_f.loc[~subset_f.index.isin(train.index)]\n",
    "print \"shape de test\" \n",
    "print test.shape\n"
   ]
  },
  {
   "cell_type": "markdown",
   "metadata": {},
   "source": [
    "# Training du model "
   ]
  },
  {
   "cell_type": "code",
   "execution_count": 47,
   "metadata": {
    "collapsed": false
   },
   "outputs": [
    {
     "name": "stdout",
     "output_type": "stream",
     "text": [
      "['make', 'body-style', 'wheel-base', 'engine-size', 'horsepower', 'peak-rpm', 'highway-mpg', 'price']\n"
     ]
    }
   ],
   "source": [
    "# Afficher les colonnes predicteurs. \n",
    "print train.columns.tolist() \n"
   ]
  },
  {
   "cell_type": "code",
   "execution_count": 48,
   "metadata": {
    "collapsed": true
   },
   "outputs": [],
   "source": [
    "#Déterminer les ensembles prédicteurs et cible\n",
    "columns = [ \"wheel-base\", \"engine-size\", \"horsepower\", \n",
    "           \"peak-rpm\", \"highway-mpg\"] \n",
    "target=\"price\"\n",
    "\n",
    "X_train = train[columns]\n",
    "Y_train = train[target]\n",
    "\n",
    "X_test = test[columns]\n",
    "Y_test = test[target]\n"
   ]
  },
  {
   "cell_type": "code",
   "execution_count": 20,
   "metadata": {
    "collapsed": false
   },
   "outputs": [
    {
     "data": {
      "text/plain": [
       "LinearRegression(copy_X=True, fit_intercept=True, n_jobs=1, normalize=False)"
      ]
     },
     "execution_count": 20,
     "metadata": {},
     "output_type": "execute_result"
    }
   ],
   "source": [
    "#Apprentissage du modele LR\n",
    "model_lr = LinearRegression()\n",
    "model_lr.fit(train[columns], train[target])\n"
   ]
  },
  {
   "cell_type": "code",
   "execution_count": 21,
   "metadata": {
    "collapsed": false
   },
   "outputs": [
    {
     "name": "stdout",
     "output_type": "stream",
     "text": [
      "('Coefficients du modele:', array([ 294.94048473,  109.18720206,   74.73662207,    1.3927916 ,\n",
      "        138.38019828]))\n"
     ]
    }
   ],
   "source": [
    "# Affichage des coefficient\n",
    "print('Coefficients du modele:', model_lr.coef_)\n"
   ]
  },
  {
   "cell_type": "code",
   "execution_count": 22,
   "metadata": {
    "collapsed": false
   },
   "outputs": [
    {
     "name": "stdout",
     "output_type": "stream",
     "text": [
      "Predictions\n",
      "[ 10310.83324734  11760.14222964  16383.83157862  17388.09323889\n",
      "   6867.58546464   8759.94605019   6452.44486979   6452.44486979\n",
      "  12469.15904371   5207.01346378]\n",
      "Valeurs vraies\n",
      "1     16500.0\n",
      "3     13950.0\n",
      "7     18920.0\n",
      "8     23875.0\n",
      "21     5572.0\n",
      "23     7957.0\n",
      "25     6692.0\n",
      "26     7609.0\n",
      "28     8921.0\n",
      "32     5399.0\n",
      "Name: price, dtype: float64\n"
     ]
    }
   ],
   "source": [
    "# Let's see predictions for the first 10 instances\n",
    "p = model_lr.predict(X_test)\n",
    "print \"Predictions\"\n",
    "print (p[:10])\n",
    "print \"Valeurs vraies\"\n",
    "print Y_test[:10]\n"
   ]
  },
  {
   "cell_type": "code",
   "execution_count": 23,
   "metadata": {
    "collapsed": true
   },
   "outputs": [],
   "source": [
    "# Vecteur d'erreurs\n",
    "err = abs(p-Y_test)"
   ]
  },
  {
   "cell_type": "code",
   "execution_count": 24,
   "metadata": {
    "collapsed": false
   },
   "outputs": [
    {
     "name": "stdout",
     "output_type": "stream",
     "text": [
      "Residual sum of squares: 3418.14\n"
     ]
    }
   ],
   "source": [
    "# mean square error\n",
    "print(\"Residual sum of squares: %.2f\"\n",
    " % np.sqrt(np.mean(err ** 2)))\n"
   ]
  },
  {
   "cell_type": "code",
   "execution_count": 25,
   "metadata": {
    "collapsed": false
   },
   "outputs": [
    {
     "name": "stdout",
     "output_type": "stream",
     "text": [
      "R2 ou coefficient de determination:0.780 \n"
     ]
    }
   ],
   "source": [
    "from sklearn.metrics import r2_score\n",
    "\n",
    "print(\"R2 ou coefficient de determination:%.3f \") % (r2_score(Y_test, p))\n"
   ]
  },
  {
   "cell_type": "code",
   "execution_count": null,
   "metadata": {
    "collapsed": true
   },
   "outputs": [],
   "source": []
  }
 ],
 "metadata": {
  "kernelspec": {
   "display_name": "Python 2",
   "language": "python",
   "name": "python2"
  },
  "language_info": {
   "codemirror_mode": {
    "name": "ipython",
    "version": 2
   },
   "file_extension": ".py",
   "mimetype": "text/x-python",
   "name": "python",
   "nbconvert_exporter": "python",
   "pygments_lexer": "ipython2",
   "version": "2.7.11"
  }
 },
 "nbformat": 4,
 "nbformat_minor": 0
}
