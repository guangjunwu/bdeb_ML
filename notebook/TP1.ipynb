{
 "cells": [
  {
   "cell_type": "markdown",
   "metadata": {},
   "source": [
    "# TP1 Machine learning - Apprentissage Supervisé"
   ]
  },
  {
   "cell_type": "markdown",
   "metadata": {},
   "source": [
    "## Projet : plan d’aide à la réussite"
   ]
  },
  {
   "cell_type": "markdown",
   "metadata": {},
   "source": [
    "### Contexte de réalisation\n",
    "1. Format: individuel\n",
    "2. Datasets: on a à notre disposition une source de données data_etudiants.csv"
   ]
  },
  {
   "cell_type": "markdown",
   "metadata": {},
   "source": [
    "### Objectif\n",
    "Ce projet a pour but d’évaluer votre compétence dans le développement et l’utilisation d’une approche supervisée."
   ]
  },
  {
   "cell_type": "markdown",
   "metadata": {},
   "source": [
    "### Description du projet\n",
    "Le collège a récemment développé un plan d’action pour améliorer le taux de réussite des étudiants. Pour cela, il est proposé la mise en place d’une formule d’aide à la réussite. Pour cela, il leur a été conseillé de mettre en place une stratégie pour prédire le succès ou l’échec d’un étudiant en se basant sur des données spécifiques.\n",
    "\n",
    "Étant donné que le plan d’aide à la réussite nécessite des ressources, il est aussi demandé d’évaluer la pertinence des moyens d’aide à la réussite. Le but de ce projet est de modéliser les facteurs qui prédisent le potentiel qu’un étudiant va réussir l’examen final de diplomation."
   ]
  },
  {
   "cell_type": "markdown",
   "metadata": {},
   "source": [
    "### Démarche\n",
    "L’objectif est de développer un modèle qui va prédire le likelihood qu’un étudiant va réussir son cursus. Ceci nous permettra d’établir s’il y’a un besoin d’établir un plan d’aide à la réussite ou pas.\n",
    "\n",
    "Le modèle doit être développé sur un sous-ensemble de données qui vous sera fourni. Le modèle sera ensuite testé sur un sous-ensemble de données qui sera caché à l’algorithme d’apprentissage. De ce fait, on testera la qualité du modèle sur des données qui ne font pas partie de l’ensemble d’apprentissage."
   ]
  },
  {
   "cell_type": "markdown",
   "metadata": {},
   "source": [
    "### Facteurs d’évaluation\n",
    "Trois facteurs seront utilisés, à savoir le Score F1, la taille de l’échantillon d’apprentissage et les ressources nécessaires pour l’apprentissage.\n",
    "\n",
    "<u>Score F1</u> : donne le sommaire des positives et négatives corrects sur l’ensemble des cas. Cela nous donne une mesure sur la différentiation du modèle, passage vs echec\n",
    "    \n",
    "<u>Taille de l’échantillon d’apprentissage</u> : De préférence, on devra avoir un échantillon de petite taille au lieu d’un plus grand échantillon pour des considérations de logistique ou autre. De manière générale, quelle est la taille nécessaire pour que le modèle puisse être utilisé pour une prédiction adéquate.\n",
    "    \n",
    "<u>Ressource de calcul</u> : quelles sont les ressources nécessaires pour faire une prédiction adéquate? On parle ici du temps de traitement et de la mémoire nécessaire pour arriver au résultat demandé.\n",
    "    \n",
    "Tout autre métrique que vous pensez être approprié pour ce problème pourra être utilisé et évalué"
   ]
  },
  {
   "cell_type": "markdown",
   "metadata": {},
   "source": [
    "### Langage et libraries à utiliser\n",
    "* Python 2.7 ou 3.5/Anaconda\n",
    "* Numpy\n",
    "* Sci-kit learn (Sklearn)\n",
    "* Pandas\n",
    "* Matplotlib\n",
    "Pour ceux qui seraient intéressés par une implémentation avec R, le TP peut être réalisé en utilisant R et les packages appropriés"
   ]
  },
  {
   "cell_type": "markdown",
   "metadata": {},
   "source": [
    "### Dataset et template\n",
    "Dans le répertoire assets_tp1, vous avez :\n",
    "* README_lisezmoi.txt– description des attributs du dataset\n",
    "* data_etudiants.csv – données sur les performances des étudiants"
   ]
  },
  {
   "cell_type": "markdown",
   "metadata": {},
   "source": [
    "### Livrable\n",
    "1. Identifier les étudiants qui ont besoin d’un plan d’aide à la réussite. Est-ce que l’on est dans un cas de classification? Expliquer.\n",
    "2. Exploration des données :\n",
    "  1. déterminer les statistiques suivantes : nombre d’étudiants, nombre d’étudiants qui ont réussi, nombre d’étudiants en échec, taux de graduation, autres statistiques que vous pensez être intéressantes pour ce projet.\n",
    "3. Préparation des données :\n",
    "  1. Identifier les features/prédicteurs et la colonne cible\n",
    "  2. Effectuer un prétraitement sur les colonnes featured\n",
    "  3. Partager les données en training et test\n",
    "4. Modèle d’apprentissage et test évaluation"
   ]
  },
  {
   "cell_type": "markdown",
   "metadata": {},
   "source": [
    "# Dataset à utiliser pour le TP1: supervised learning\n",
    "\n",
    "## Dataset\n",
    "Attributs de data_etudiants.csv:\n",
    "\n",
    "* school - student's school (binary: \"GP\" or \"MS\")\n",
    "* sex - student's sex (binary: \"F\" - female or \"M\" - male)\n",
    "* age - student's age (numeric: from 15 to 22)\n",
    "* address - student's home address type (binary: \"U\" - urban or \"R\" - rural)\n",
    "* famsize - family size (binary: \"LE3\" - less or equal to 3 or \"GT3\" - greater than 3)\n",
    "* Pstatus - parent's cohabitation status (binary: \"T\" - living together or \"A\" - apart)\n",
    "* Medu - mother's education (numeric: 0 - none,  1 - primary education (4th grade), 2 – 5th to 9th grade, 3 – secondary education or 4 – higher education)\n",
    "* Fedu - father's education (numeric: 0 - none,  1 - primary education (4th grade), 2 – 5th to 9th grade, 3 – secondary education or 4 – higher education)\n",
    "* Mjob - mother's job (nominal: \"teacher\", \"health\" care related, civil \"services\" (e.g. administrative or police), \"at_home\" or \"other\")\n",
    "* Fjob - father's job (nominal: \"teacher\", \"health\" care related, civil \"services\" (e.g. administrative or police), \"at_home\" or \"other\")\n",
    "* reason - reason to choose this school (nominal: close to \"home\", school \"reputation\", \"course\" preference or \"other\")\n",
    "* guardian - student's guardian (nominal: \"mother\", \"father\" or \"other\")\n",
    "* traveltime - home to school travel time (numeric: 1 - <15 min., 2 - 15 to 30 min., 3 - 30 min. to 1 hour, or 4 - >1 hour)\n",
    "* studytime - weekly study time (numeric: 1 - <2 hours, 2 - 2 to 5 hours, 3 - 5 to 10 hours, or 4 - >10 hours)\n",
    "* failures - number of past class failures (numeric: n if 1<=n<3, else 4)\n",
    "* schoolsup - extra educational support (binary: yes or no)\n",
    "* famsup - family educational support (binary: yes or no)\n",
    "* paid - extra paid classes within the course subject (Math or Portuguese) (binary: yes or no)\n",
    "* activities - extra-curricular activities (binary: yes or no)\n",
    "* nursery - attended nursery school (binary: yes or no)\n",
    "* higher - wants to take higher education (binary: yes or no)\n",
    "* internet - Internet access at home (binary: yes or no)\n",
    "* romantic - with a romantic relationship (binary: yes or no)\n",
    "* famrel - quality of family relationships (numeric: from 1 - very bad to 5 - excellent)\n",
    "* freetime - free time after school (numeric: from 1 - very low to 5 - very high)\n",
    "* goout - going out with friends (numeric: from 1 - very low to 5 - very high)\n",
    "* Dalc - workday alcohol consumption (numeric: from 1 - very low to 5 - very high)\n",
    "* Walc - weekend alcohol consumption (numeric: from 1 - very low to 5 - very high)\n",
    "* health - current health status (numeric: from 1 - very bad to 5 - very good)\n",
    "* absences - number of school absences (numeric: from 0 to 93)\n",
    "* passed - did the student pass the final exam (binary: yes or no)"
   ]
  },
  {
   "cell_type": "markdown",
   "metadata": {},
   "source": [
    "## Developpement"
   ]
  },
  {
   "cell_type": "code",
   "execution_count": 6,
   "metadata": {
    "collapsed": true
   },
   "outputs": [],
   "source": [
    "#import packages\n",
    "import numpy as np\n",
    "import matplotlib.pyplot as plt\n",
    "import pandas as pd\n",
    "\n",
    "from sklearn import neighbors, datasets, metrics\n",
    "from sklearn.metrics import confusion_matrix \n",
    "from sklearn.cross_validation import train_test_split"
   ]
  },
  {
   "cell_type": "code",
   "execution_count": 8,
   "metadata": {
    "collapsed": false
   },
   "outputs": [
    {
     "name": "stdout",
     "output_type": "stream",
     "text": [
      "(395, 31)\n"
     ]
    },
    {
     "data": {
      "text/html": [
       "<div>\n",
       "<table border=\"1\" class=\"dataframe\">\n",
       "  <thead>\n",
       "    <tr style=\"text-align: right;\">\n",
       "      <th></th>\n",
       "      <th>sex</th>\n",
       "      <th>age</th>\n",
       "      <th>address</th>\n",
       "      <th>famsize</th>\n",
       "      <th>Pstatus</th>\n",
       "      <th>Medu</th>\n",
       "      <th>Fedu</th>\n",
       "      <th>Mjob</th>\n",
       "      <th>Fjob</th>\n",
       "      <th>reason</th>\n",
       "      <th>guardian</th>\n",
       "      <th>traveltime</th>\n",
       "      <th>studytime</th>\n",
       "      <th>failures</th>\n",
       "      <th>schoolsup</th>\n",
       "      <th>famsup</th>\n",
       "      <th>paid</th>\n",
       "      <th>activities</th>\n",
       "      <th>nursery</th>\n",
       "    </tr>\n",
       "  </thead>\n",
       "  <tbody>\n",
       "    <tr>\n",
       "      <th>0</th>\n",
       "      <td>F</td>\n",
       "      <td>18</td>\n",
       "      <td>U</td>\n",
       "      <td>GT3</td>\n",
       "      <td>A</td>\n",
       "      <td>4</td>\n",
       "      <td>4</td>\n",
       "      <td>at_home</td>\n",
       "      <td>teacher</td>\n",
       "      <td>course</td>\n",
       "      <td>mother</td>\n",
       "      <td>2</td>\n",
       "      <td>2</td>\n",
       "      <td>0</td>\n",
       "      <td>yes</td>\n",
       "      <td>no</td>\n",
       "      <td>no</td>\n",
       "      <td>no</td>\n",
       "      <td>yes</td>\n",
       "    </tr>\n",
       "    <tr>\n",
       "      <th>1</th>\n",
       "      <td>F</td>\n",
       "      <td>17</td>\n",
       "      <td>U</td>\n",
       "      <td>GT3</td>\n",
       "      <td>T</td>\n",
       "      <td>1</td>\n",
       "      <td>1</td>\n",
       "      <td>at_home</td>\n",
       "      <td>other</td>\n",
       "      <td>course</td>\n",
       "      <td>father</td>\n",
       "      <td>1</td>\n",
       "      <td>2</td>\n",
       "      <td>0</td>\n",
       "      <td>no</td>\n",
       "      <td>yes</td>\n",
       "      <td>no</td>\n",
       "      <td>no</td>\n",
       "      <td>no</td>\n",
       "    </tr>\n",
       "    <tr>\n",
       "      <th>2</th>\n",
       "      <td>F</td>\n",
       "      <td>15</td>\n",
       "      <td>U</td>\n",
       "      <td>LE3</td>\n",
       "      <td>T</td>\n",
       "      <td>1</td>\n",
       "      <td>1</td>\n",
       "      <td>at_home</td>\n",
       "      <td>other</td>\n",
       "      <td>other</td>\n",
       "      <td>mother</td>\n",
       "      <td>1</td>\n",
       "      <td>2</td>\n",
       "      <td>3</td>\n",
       "      <td>yes</td>\n",
       "      <td>no</td>\n",
       "      <td>yes</td>\n",
       "      <td>no</td>\n",
       "      <td>yes</td>\n",
       "    </tr>\n",
       "    <tr>\n",
       "      <th>3</th>\n",
       "      <td>F</td>\n",
       "      <td>15</td>\n",
       "      <td>U</td>\n",
       "      <td>GT3</td>\n",
       "      <td>T</td>\n",
       "      <td>4</td>\n",
       "      <td>2</td>\n",
       "      <td>health</td>\n",
       "      <td>services</td>\n",
       "      <td>home</td>\n",
       "      <td>mother</td>\n",
       "      <td>1</td>\n",
       "      <td>3</td>\n",
       "      <td>0</td>\n",
       "      <td>no</td>\n",
       "      <td>yes</td>\n",
       "      <td>yes</td>\n",
       "      <td>yes</td>\n",
       "      <td>yes</td>\n",
       "    </tr>\n",
       "    <tr>\n",
       "      <th>4</th>\n",
       "      <td>F</td>\n",
       "      <td>16</td>\n",
       "      <td>U</td>\n",
       "      <td>GT3</td>\n",
       "      <td>T</td>\n",
       "      <td>3</td>\n",
       "      <td>3</td>\n",
       "      <td>other</td>\n",
       "      <td>other</td>\n",
       "      <td>home</td>\n",
       "      <td>father</td>\n",
       "      <td>1</td>\n",
       "      <td>2</td>\n",
       "      <td>0</td>\n",
       "      <td>no</td>\n",
       "      <td>yes</td>\n",
       "      <td>yes</td>\n",
       "      <td>no</td>\n",
       "      <td>yes</td>\n",
       "    </tr>\n",
       "  </tbody>\n",
       "</table>\n",
       "</div>"
      ],
      "text/plain": [
       "  sex  age address famsize Pstatus  Medu  Fedu     Mjob      Fjob  reason  \\\n",
       "0   F   18       U     GT3       A     4     4  at_home   teacher  course   \n",
       "1   F   17       U     GT3       T     1     1  at_home     other  course   \n",
       "2   F   15       U     LE3       T     1     1  at_home     other   other   \n",
       "3   F   15       U     GT3       T     4     2   health  services    home   \n",
       "4   F   16       U     GT3       T     3     3    other     other    home   \n",
       "\n",
       "  guardian  traveltime  studytime  failures schoolsup famsup paid activities  \\\n",
       "0   mother           2          2         0       yes     no   no         no   \n",
       "1   father           1          2         0        no    yes   no         no   \n",
       "2   mother           1          2         3       yes     no  yes         no   \n",
       "3   mother           1          3         0        no    yes  yes        yes   \n",
       "4   father           1          2         0        no    yes  yes         no   \n",
       "\n",
       "  nursery  \n",
       "0     yes  \n",
       "1      no  \n",
       "2     yes  \n",
       "3     yes  \n",
       "4     yes  "
      ]
     },
     "execution_count": 8,
     "metadata": {},
     "output_type": "execute_result"
    }
   ],
   "source": [
    "# charger les donnees\n",
    "#charger le fichier en remplacant les ? par NA\n",
    "data = pd.read_csv(\"data_etudiants.csv\")\n",
    "#data represente les données du dataset incluant la cible\n",
    "print data.shape\n",
    "#data[:5]\n",
    "#data.iloc[:5,:10]\n",
    "data.iloc[:5,1:20]\n",
    "#data.iloc[:5,20:]\n",
    "#data.describe()\n",
    "\n"
   ]
  },
  {
   "cell_type": "code",
   "execution_count": null,
   "metadata": {
    "collapsed": true
   },
   "outputs": [],
   "source": []
  }
 ],
 "metadata": {
  "kernelspec": {
   "display_name": "Python 2",
   "language": "python",
   "name": "python2"
  },
  "language_info": {
   "codemirror_mode": {
    "name": "ipython",
    "version": 2
   },
   "file_extension": ".py",
   "mimetype": "text/x-python",
   "name": "python",
   "nbconvert_exporter": "python",
   "pygments_lexer": "ipython2",
   "version": "2.7.11"
  }
 },
 "nbformat": 4,
 "nbformat_minor": 0
}
