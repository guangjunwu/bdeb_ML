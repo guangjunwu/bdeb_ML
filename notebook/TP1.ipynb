{
 "cells": [
  {
   "cell_type": "markdown",
   "metadata": {},
   "source": [
    "# TP1 Machine learning - Apprentissage Supervisé"
   ]
  },
  {
   "cell_type": "markdown",
   "metadata": {},
   "source": [
    "## Projet : plan d’aide à la réussite"
   ]
  },
  {
   "cell_type": "markdown",
   "metadata": {},
   "source": [
    "### Contexte de réalisation\n",
    "1. Format: individuel\n",
    "2. Datasets: on a à notre disposition une source de données data_etudiants.csv"
   ]
  },
  {
   "cell_type": "markdown",
   "metadata": {},
   "source": [
    "### Objectif\n",
    "Ce projet a pour but d’évaluer votre compétence dans le développement et l’utilisation d’une approche supervisée."
   ]
  },
  {
   "cell_type": "markdown",
   "metadata": {},
   "source": [
    "### Description du projet\n",
    "Le collège a récemment développé un plan d’action pour améliorer le taux de réussite des étudiants. Pour cela, il est proposé la mise en place d’une formule d’aide à la réussite. Pour cela, il leur a été conseillé de mettre en place une stratégie pour prédire le succès ou l’échec d’un étudiant en se basant sur des données spécifiques.\n",
    "\n",
    "Étant donné que le plan d’aide à la réussite nécessite des ressources, il est aussi demandé d’évaluer la pertinence des moyens d’aide à la réussite. Le but de ce projet est de modéliser les facteurs qui prédisent le potentiel qu’un étudiant va réussir l’examen final de diplomation."
   ]
  },
  {
   "cell_type": "markdown",
   "metadata": {},
   "source": [
    "### Démarche\n",
    "L’objectif est de développer un modèle qui va prédire le likelihood qu’un étudiant va réussir son cursus. Ceci nous permettra d’établir s’il y’a un besoin d’établir un plan d’aide à la réussite ou pas.\n",
    "\n",
    "Le modèle doit être développé sur un sous-ensemble de données qui vous sera fourni. Le modèle sera ensuite testé sur un sous-ensemble de données qui sera caché à l’algorithme d’apprentissage. De ce fait, on testera la qualité du modèle sur des données qui ne font pas partie de l’ensemble d’apprentissage."
   ]
  },
  {
   "cell_type": "markdown",
   "metadata": {},
   "source": [
    "### Facteurs d’évaluation\n",
    "Trois facteurs seront utilisés, à savoir le Score F1, la taille de l’échantillon d’apprentissage et les ressources nécessaires pour l’apprentissage.\n",
    "\n",
    "<u>Score F1</u> : donne le sommaire des positives et négatives corrects sur l’ensemble des cas. Cela nous donne une mesure sur la différentiation du modèle, passage vs echec\n",
    "    \n",
    "<u>Taille de l’échantillon d’apprentissage</u> : De préférence, on devra avoir un échantillon de petite taille au lieu d’un plus grand échantillon pour des considérations de logistique ou autre. De manière générale, quelle est la taille nécessaire pour que le modèle puisse être utilisé pour une prédiction adéquate.\n",
    "    \n",
    "<u>Ressource de calcul</u> : quelles sont les ressources nécessaires pour faire une prédiction adéquate? On parle ici du temps de traitement et de la mémoire nécessaire pour arriver au résultat demandé.\n",
    "    \n",
    "Tout autre métrique que vous pensez être approprié pour ce problème pourra être utilisé et évalué"
   ]
  },
  {
   "cell_type": "markdown",
   "metadata": {},
   "source": [
    "### Langage et libraries à utiliser\n",
    "* Python 2.7 ou 3.5/Anaconda\n",
    "* Numpy\n",
    "* Sci-kit learn (Sklearn)\n",
    "* Pandas\n",
    "* Matplotlib\n",
    "Pour ceux qui seraient intéressés par une implémentation avec R, le TP peut être réalisé en utilisant R et les packages appropriés"
   ]
  },
  {
   "cell_type": "markdown",
   "metadata": {},
   "source": [
    "### Dataset et template\n",
    "Dans le répertoire assets_tp1, vous avez :\n",
    "* README_lisezmoi.txt– description des attributs du dataset\n",
    "* data_etudiants.csv – données sur les performances des étudiants"
   ]
  },
  {
   "cell_type": "markdown",
   "metadata": {},
   "source": [
    "### Livrable\n",
    "1. Identifier les étudiants qui ont besoin d’un plan d’aide à la réussite. Est-ce que l’on est dans un cas de classification? Expliquer.\n",
    "2. Exploration des données :\n",
    "  1. déterminer les statistiques suivantes : nombre d’étudiants, nombre d’étudiants qui ont réussi, nombre d’étudiants en échec, taux de graduation, autres statistiques que vous pensez être intéressantes pour ce projet.\n",
    "3. Préparation des données :\n",
    "  1. Identifier les features/prédicteurs et la colonne cible\n",
    "  2. Effectuer un prétraitement sur les colonnes featured\n",
    "  3. Partager les données en training et test\n",
    "4. Modèle d’apprentissage et test évaluation"
   ]
  },
  {
   "cell_type": "markdown",
   "metadata": {},
   "source": [
    "# Dataset à utiliser pour le TP1: supervised learning\n",
    "\n",
    "## Dataset\n",
    "Attributs de data_etudiants.csv:\n",
    "\n",
    "* school - student's school (binary: \"GP\" or \"MS\")\n",
    "* sex - student's sex (binary: \"F\" - female or \"M\" - male)\n",
    "* age - student's age (numeric: from 15 to 22)\n",
    "* address - student's home address type (binary: \"U\" - urban or \"R\" - rural)\n",
    "* famsize - family size (binary: \"LE3\" - less or equal to 3 or \"GT3\" - greater than 3)\n",
    "* Pstatus - parent's cohabitation status (binary: \"T\" - living together or \"A\" - apart)\n",
    "* Medu - mother's education (numeric: 0 - none,  1 - primary education (4th grade), 2 – 5th to 9th grade, 3 – secondary education or 4 – higher education)\n",
    "* Fedu - father's education (numeric: 0 - none,  1 - primary education (4th grade), 2 – 5th to 9th grade, 3 – secondary education or 4 – higher education)\n",
    "* Mjob - mother's job (nominal: \"teacher\", \"health\" care related, civil \"services\" (e.g. administrative or police), \"at_home\" or \"other\")\n",
    "* Fjob - father's job (nominal: \"teacher\", \"health\" care related, civil \"services\" (e.g. administrative or police), \"at_home\" or \"other\")\n",
    "* reason - reason to choose this school (nominal: close to \"home\", school \"reputation\", \"course\" preference or \"other\")\n",
    "* guardian - student's guardian (nominal: \"mother\", \"father\" or \"other\")\n",
    "* traveltime - home to school travel time (numeric: 1 - <15 min., 2 - 15 to 30 min., 3 - 30 min. to 1 hour, or 4 - >1 hour)\n",
    "* studytime - weekly study time (numeric: 1 - <2 hours, 2 - 2 to 5 hours, 3 - 5 to 10 hours, or 4 - >10 hours)\n",
    "* failures - number of past class failures (numeric: n if 1<=n<3, else 4)\n",
    "* schoolsup - extra educational support (binary: yes or no)\n",
    "* famsup - family educational support (binary: yes or no)\n",
    "* paid - extra paid classes within the course subject (Math or Portuguese) (binary: yes or no)\n",
    "* activities - extra-curricular activities (binary: yes or no)\n",
    "* nursery - attended nursery school (binary: yes or no)\n",
    "* higher - wants to take higher education (binary: yes or no)\n",
    "* internet - Internet access at home (binary: yes or no)\n",
    "* romantic - with a romantic relationship (binary: yes or no)\n",
    "* famrel - quality of family relationships (numeric: from 1 - very bad to 5 - excellent)\n",
    "* freetime - free time after school (numeric: from 1 - very low to 5 - very high)\n",
    "* goout - going out with friends (numeric: from 1 - very low to 5 - very high)\n",
    "* Dalc - workday alcohol consumption (numeric: from 1 - very low to 5 - very high)\n",
    "* Walc - weekend alcohol consumption (numeric: from 1 - very low to 5 - very high)\n",
    "* health - current health status (numeric: from 1 - very bad to 5 - very good)\n",
    "* absences - number of school absences (numeric: from 0 to 93)\n",
    "* passed - did the student pass the final exam (binary: yes or no)"
   ]
  },
  {
   "cell_type": "markdown",
   "metadata": {},
   "source": [
    "# Analyse\n",
    "\n",
    "Cette étude cherche à prédire le potentiel qu'un étudiant va réussir l'examin final de diplomation, la résussite est la cible et on est dans un apprentissage supervisé. La cible prend deux valeurs possibles: true ou false, on est dans une classification binomiale. Les alogorithmes suivant seront utilisés et comparés dans cette presente étude:\n",
    "* Decision trees\n",
    "* Naive Bayes classifier\n",
    "* Logistic regression"
   ]
  },
  {
   "cell_type": "markdown",
   "metadata": {},
   "source": [
    "## Developpement"
   ]
  },
  {
   "cell_type": "code",
   "execution_count": 123,
   "metadata": {
    "collapsed": false
   },
   "outputs": [],
   "source": [
    "#import packages\n",
    "import numpy as np\n",
    "import matplotlib.pyplot as plt\n",
    "import pandas as pd\n",
    "# config pandas\n",
    "pd.set_option('display.width', 5000) \n",
    "pd.set_option('display.max_columns', 60) \n",
    "\n",
    "#  Convert feature arrays represented as lists of standard Python dict objects \n",
    "#  to the NumPy/SciPy representation used by scikit-learn estimators.\n",
    "from sklearn.feature_extraction import DictVectorizer\n",
    "from sklearn import preprocessing\n",
    "\n",
    "from sklearn import neighbors, tree, metrics, naive_bayes\n",
    "from sklearn.metrics import confusion_matrix \n",
    "from sklearn.cross_validation import train_test_split"
   ]
  },
  {
   "cell_type": "markdown",
   "metadata": {},
   "source": [
    "### charger les donnees"
   ]
  },
  {
   "cell_type": "code",
   "execution_count": 104,
   "metadata": {
    "collapsed": false
   },
   "outputs": [
    {
     "name": "stdout",
     "output_type": "stream",
     "text": [
      "(395, 45) Index([u'school', u'sex', u'age', u'address', u'famsize', u'Pstatus', u'Medu', u'Fedu', u'Mjob', u'Fjob', u'reason', u'guardian', u'traveltime', u'studytime', u'failures', u'schoolsup', u'famsup', u'paid', u'activities', u'nursery', u'higher', u'internet', u'romantic', u'famrel', u'freetime', u'goout', u'Dalc', u'Walc', u'health', u'absences', u'passed', u'b_famsize', u'b_schoolsup', u'b_activities', u'b_paid', u'b_sex', u'b_nursery', u'b_address', u'b_school', u'b_romantic', u'b_Pstatus', u'b_passed', u'b_internet', u'b_famsup', u'b_higher'], dtype='object')\n"
     ]
    },
    {
     "data": {
      "text/html": [
       "<div>\n",
       "<table border=\"1\" class=\"dataframe\">\n",
       "  <thead>\n",
       "    <tr style=\"text-align: right;\">\n",
       "      <th></th>\n",
       "      <th>school</th>\n",
       "      <th>b_school</th>\n",
       "      <th>passed</th>\n",
       "      <th>b_passed</th>\n",
       "    </tr>\n",
       "  </thead>\n",
       "  <tbody>\n",
       "    <tr>\n",
       "      <th>0</th>\n",
       "      <td>GP</td>\n",
       "      <td>False</td>\n",
       "      <td>no</td>\n",
       "      <td>False</td>\n",
       "    </tr>\n",
       "    <tr>\n",
       "      <th>1</th>\n",
       "      <td>GP</td>\n",
       "      <td>False</td>\n",
       "      <td>no</td>\n",
       "      <td>False</td>\n",
       "    </tr>\n",
       "    <tr>\n",
       "      <th>2</th>\n",
       "      <td>GP</td>\n",
       "      <td>False</td>\n",
       "      <td>yes</td>\n",
       "      <td>True</td>\n",
       "    </tr>\n",
       "    <tr>\n",
       "      <th>3</th>\n",
       "      <td>GP</td>\n",
       "      <td>False</td>\n",
       "      <td>yes</td>\n",
       "      <td>True</td>\n",
       "    </tr>\n",
       "    <tr>\n",
       "      <th>4</th>\n",
       "      <td>GP</td>\n",
       "      <td>False</td>\n",
       "      <td>yes</td>\n",
       "      <td>True</td>\n",
       "    </tr>\n",
       "  </tbody>\n",
       "</table>\n",
       "</div>"
      ],
      "text/plain": [
       "  school b_school passed b_passed\n",
       "0     GP    False     no    False\n",
       "1     GP    False     no    False\n",
       "2     GP    False    yes     True\n",
       "3     GP    False    yes     True\n",
       "4     GP    False    yes     True"
      ]
     },
     "execution_count": 104,
     "metadata": {},
     "output_type": "execute_result"
    }
   ],
   "source": [
    "#charger le fichier \n",
    "data = pd.read_csv(\"data_etudiants.csv\")\n",
    "#print type(rawData['passed'][1])\n",
    "#rawData['b_passed'] = 1\n",
    "#rawData.loc[rawData.passed == 'no', 'b_passed']= 0\n",
    "#rawData['b_sex'] = 1\n",
    "#rawData.loc[rawData.sex == 'F', 'b_sex'] = 0\n",
    "\n",
    "b_features = {'school':['GP', 'MS'], \n",
    "              'sex': ['F', 'M'], \n",
    "              'address': ['U', 'R'], \n",
    "              'famsize': ['LE3', 'GT3'], \n",
    "              'Pstatus': ['T', 'A'],\n",
    "              'schoolsup': ['no', 'yes'],\n",
    "              'famsup': ['no', 'yes'],\n",
    "              'paid': ['no', 'yes'], \n",
    "              'activities': ['no', 'yes'], \n",
    "              'nursery': ['no', 'yes'], \n",
    "              'higher': ['no', 'yes'], \n",
    "              'internet': ['no', 'yes'], \n",
    "              'romantic': ['no', 'yes'], \n",
    "              'passed': ['no', 'yes']\n",
    "             }\n",
    "#print b_features\n",
    "#print type(b_features), type(b_features.items())\n",
    "#print b_features.items()\n",
    "\n",
    "for k, v in b_features.items():\n",
    "    # print k, v[0], v[1]\n",
    "    data['b_' + k] = False\n",
    "    data.loc[data[k] == v[1], 'b_' + k] = True\n",
    "\n",
    "\n",
    "#data represente les données du dataset incluant la cible\n",
    "print data.shape, data.columns\n",
    "data[ ['school', 'b_school', 'passed', 'b_passed']][:5]\n"
   ]
  },
  {
   "cell_type": "markdown",
   "metadata": {},
   "source": [
    "### Préparation des données"
   ]
  },
  {
   "cell_type": "code",
   "execution_count": 129,
   "metadata": {
    "collapsed": false
   },
   "outputs": [
    {
     "name": "stdout",
     "output_type": "stream",
     "text": [
      "Selected predictors:  ['b_school', 'b_sex', 'age', 'b_address', 'b_famsize', 'b_Pstatus', 'Medu', 'Fedu', 'Mjob', 'Fjob', 'reason', 'guardian', 'traveltime', 'studytime', 'failures', 'b_schoolsup', 'b_famsup', 'b_paid', 'b_activities', 'b_nursery', 'b_higher', 'b_internet', 'b_romantic', 'famrel', 'freetime', 'goout', 'Dalc', 'Walc', 'health', 'absences']\n",
      "(296, 43) (99, 43) (296, 1) (99, 1)\n"
     ]
    }
   ],
   "source": [
    "# select predictors\n",
    "# all_predictors = ['school', 'sex', 'age', 'address', 'famsize', 'Pstatus', 'Medu', 'Fedu', 'Mjob', 'Fjob', 'reason', 'guardian', 'traveltime', 'studytime', 'failures', 'schoolsup', 'famsup', 'paid', 'activities', 'nursery', 'higher', 'internet', 'romantic', 'famrel', 'freetime', 'goout', 'Dalc', 'Walc', 'health', 'absences']\n",
    "predictors = ['school', 'sex', 'age', 'address', 'famsize', 'Pstatus', 'Medu', 'Fedu', 'Mjob', 'Fjob', 'reason', 'guardian', 'traveltime', 'studytime', 'failures', 'schoolsup', 'famsup', 'paid', 'activities', 'nursery', 'higher', 'internet', 'romantic', 'famrel', 'freetime', 'goout', 'Dalc', 'Walc', 'health', 'absences']\n",
    "\n",
    "# convert to boolean for binary feature\n",
    "converted_predictors = [  'b_' + k if k in b_features.keys() else k for k in predictors]\n",
    "\n",
    "# binary predictors only\n",
    "b_predictors = [ 'b_' + k for k in b_features.keys()]\n",
    "b_predictors.remove('b_passed')\n",
    "# chosen predictors\n",
    "chosen_predictors = converted_predictors\n",
    "print \"Selected predictors: \", chosen_predictors\n",
    "\n",
    "target = ['b_passed']\n",
    "\n",
    "# Split data into training and testing\n",
    "X_train, X_test, y_train, y_test = train_test_split(pd.get_dummies(data[chosen_predictors]), data[target], test_size=0.25, random_state=42)\n",
    "\n",
    "print X_train.shape, X_test.shape, y_train.shape, y_test.shape"
   ]
  },
  {
   "cell_type": "markdown",
   "metadata": {},
   "source": [
    "### Algorithme 1 - Decision tree"
   ]
  },
  {
   "cell_type": "code",
   "execution_count": 137,
   "metadata": {
    "collapsed": false
   },
   "outputs": [
    {
     "name": "stdout",
     "output_type": "stream",
     "text": [
      "F1-score of Decision tree algorithm:  0.635658914729\n"
     ]
    }
   ],
   "source": [
    "treeML = tree.DecisionTreeClassifier()\n",
    "treeML.fit(X_train, y_train)\n",
    "print \"F1-score of Decision tree algorithm: \", metrics.f1_score(treeML.predict(X_test), y_test )"
   ]
  },
  {
   "cell_type": "markdown",
   "metadata": {},
   "source": [
    "### Algorithm 2 - Naive Bayes"
   ]
  },
  {
   "cell_type": "code",
   "execution_count": 138,
   "metadata": {
    "collapsed": false
   },
   "outputs": [
    {
     "name": "stdout",
     "output_type": "stream",
     "text": [
      "F1-score of Gaussian Naive Bayes algorithm:  0.780141843972\n",
      "F1-score of Bernoulli Naive Bayes algorithm:  0.783216783217\n"
     ]
    }
   ],
   "source": [
    "# Gaussian Naive Bayes\n",
    "gnbML = naive_bayes.GaussianNB()\n",
    "gnbML.fit(X_train, y_train.b_passed)\n",
    "print \"F1-score of Gaussian Naive Bayes algorithm: \", metrics.f1_score(gnbML.predict(X_test), y_test )\n",
    "\n",
    "#Bernoulli Naive Bayes\n",
    "bnbML = naive_bayes.BernoulliNB()\n",
    "bnbML.fit(X_train, y_train.b_passed)\n",
    "print \"F1-score of Bernoulli Naive Bayes algorithm: \", metrics.f1_score(bnbML.predict(X_test), y_test )\n"
   ]
  },
  {
   "cell_type": "code",
   "execution_count": null,
   "metadata": {
    "collapsed": true
   },
   "outputs": [],
   "source": []
  }
 ],
 "metadata": {
  "kernelspec": {
   "display_name": "Python [Root]",
   "language": "python",
   "name": "Python [Root]"
  },
  "language_info": {
   "codemirror_mode": {
    "name": "ipython",
    "version": 2
   },
   "file_extension": ".py",
   "mimetype": "text/x-python",
   "name": "python",
   "nbconvert_exporter": "python",
   "pygments_lexer": "ipython2",
   "version": "2.7.11"
  }
 },
 "nbformat": 4,
 "nbformat_minor": 0
}
