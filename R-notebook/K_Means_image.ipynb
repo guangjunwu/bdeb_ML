{
 "cells": [
  {
   "cell_type": "code",
   "execution_count": 2,
   "metadata": {
    "collapsed": true
   },
   "outputs": [],
   "source": [
    "# Load the package\n",
    "library(jpeg)\n",
    "# url <- \"http://www.wall321.com/thumbnails/detail/20120304/colorful%20birds%20tropical%20head%203888x2558%20wallpaper_www.wall321.com_40.jpg\"\n"
   ]
  },
  {
   "cell_type": "code",
   "execution_count": 3,
   "metadata": {
    "collapsed": false
   },
   "outputs": [],
   "source": [
    "# dFile <- download.file(url, \"Image.jpg\")\n",
    "img <- readJPEG(\"Image.jpg\") # Read the image\n"
   ]
  },
  {
   "cell_type": "markdown",
   "metadata": {},
   "source": [
    "# Nettoyage des données "
   ]
  },
  {
   "cell_type": "code",
   "execution_count": 4,
   "metadata": {
    "collapsed": false
   },
   "outputs": [
    {
     "name": "stdout",
     "output_type": "stream",
     "text": [
      "'data.frame':\t420800 obs. of  5 variables:\n",
      " $ x: int  1 1 1 1 1 1 1 1 1 1 ...\n",
      " $ y: int  526 525 524 523 522 521 520 519 518 517 ...\n",
      " $ R: num  0.00392 0.00392 0.00392 0.00392 0.00392 ...\n",
      " $ G: num  0.00392 0.00392 0.00392 0.00392 0.00392 ...\n",
      " $ B: num  0.00392 0.00392 0.00392 0.00392 0.00392 ...\n"
     ]
    }
   ],
   "source": [
    "# Obtenir la dimension\n",
    "imgDm <- dim(img)\n",
    "\n",
    "\n",
    "# Attribuer des canaux \"RGB\" à unetrame de données\n",
    "imgRGB <- data.frame(\n",
    "  x = rep(1:imgDm[2], each = imgDm[1]),\n",
    "  y = rep(imgDm[1]:1, imgDm[2]),\n",
    "  R = as.vector(img[,,1]),\n",
    "  G = as.vector(img[,,2]),\n",
    "  B = as.vector(img[,,3])\n",
    "  )\n",
    "\n",
    "str(imgRGB)\n"
   ]
  },
  {
   "cell_type": "code",
   "execution_count": 5,
   "metadata": {
    "collapsed": false
   },
   "outputs": [
    {
     "data": {
      "text/html": [
       "<ol class=list-inline>\n",
       "\t<li>526</li>\n",
       "\t<li>800</li>\n",
       "\t<li>3</li>\n",
       "</ol>\n"
      ],
      "text/latex": [
       "\\begin{enumerate*}\n",
       "\\item 526\n",
       "\\item 800\n",
       "\\item 3\n",
       "\\end{enumerate*}\n"
      ],
      "text/markdown": [
       "1. 526\n",
       "2. 800\n",
       "3. 3\n",
       "\n",
       "\n"
      ],
      "text/plain": [
       "[1] 526 800   3"
      ]
     },
     "metadata": {},
     "output_type": "display_data"
    }
   ],
   "source": [
    "imgDm"
   ]
  },
  {
   "cell_type": "markdown",
   "metadata": {},
   "source": [
    "# Visualiser les données "
   ]
  },
  {
   "cell_type": "markdown",
   "metadata": {},
   "source": [
    "### this plot doesn't work on Jupyter"
   ]
  },
  {
   "cell_type": "code",
   "execution_count": null,
   "metadata": {
    "collapsed": false
   },
   "outputs": [
    {
     "name": "stderr",
     "output_type": "stream",
     "text": [
      "Warning message:\n",
      ": package 'ggplot2' was built under R version 3.3.1"
     ]
    },
    {
     "data": {
      "text/plain": []
     },
     "metadata": {},
     "output_type": "display_data"
    }
   ],
   "source": [
    "library(ggplot2)\n",
    "\n",
    "\n",
    "# ggplot theme to be used\n",
    "plotTheme <- function() {\n",
    "  theme(\n",
    "    panel.background = element_rect(\n",
    "      size = 3,\n",
    "      colour = \"black\",\n",
    "      fill = \"white\"),\n",
    "    axis.ticks = element_line(\n",
    "      size = 2),\n",
    "    panel.grid.major = element_line(\n",
    "      colour = \"gray80\",\n",
    "      linetype = \"dotted\"),\n",
    "    panel.grid.minor = element_line(\n",
    "      colour = \"gray90\",\n",
    "      linetype = \"dashed\"),\n",
    "    axis.title.x = element_text(\n",
    "      size = rel(1.2),\n",
    "      face = \"bold\"),\n",
    "    axis.title.y = element_text(\n",
    "      size = rel(1.2),\n",
    "      face = \"bold\"),\n",
    "    plot.title = element_text(\n",
    "      size = 20,\n",
    "      face = \"bold\",\n",
    "      vjust = 1.5)\n",
    "  )\n",
    "}\n",
    "\n",
    "# Plot the image\n",
    "ggplot(data = imgRGB, aes(x = x, y = y)) + \n",
    "  geom_point(colour = rgb(imgRGB[c(\"R\", \"G\", \"B\")])) +\n",
    "  labs(title = \"Original Image: Colorful Bird\") +\n",
    "  xlab(\"x\") +\n",
    "  ylab(\"y\") +\n",
    "  plotTheme()\n"
   ]
  },
  {
   "cell_type": "code",
   "execution_count": null,
   "metadata": {
    "collapsed": true
   },
   "outputs": [],
   "source": []
  }
 ],
 "metadata": {
  "kernelspec": {
   "display_name": "R",
   "language": "R",
   "name": "ir"
  },
  "language_info": {
   "codemirror_mode": "r",
   "file_extension": ".r",
   "mimetype": "text/x-r-source",
   "name": "R",
   "pygments_lexer": "r",
   "version": "3.3.0"
  }
 },
 "nbformat": 4,
 "nbformat_minor": 0
}
