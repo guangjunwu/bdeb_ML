{
 "cells": [
  {
   "cell_type": "markdown",
   "metadata": {},
   "source": [
    "# Devoir 1 BD8 (Guangjun Wu: 1595455)"
   ]
  },
  {
   "cell_type": "markdown",
   "metadata": {},
   "source": [
    "### Question 1.2 A"
   ]
  },
  {
   "cell_type": "code",
   "execution_count": 43,
   "metadata": {
    "collapsed": false
   },
   "outputs": [
    {
     "name": "stdout",
     "output_type": "stream",
     "text": [
      "[1] 2\n",
      "    a_x\n",
      "a_y   2\n",
      "[1] 0\n"
     ]
    },
    {
     "data": {
      "text/html": [
       "-0.666666666666667"
      ],
      "text/latex": [
       "-0.666666666666667"
      ],
      "text/markdown": [
       "-0.666666666666667"
      ],
      "text/plain": [
       "[1] -0.6666667"
      ]
     },
     "metadata": {},
     "output_type": "display_data"
    }
   ],
   "source": [
    "a_x <- c(1, 1, 0, 0, 0)\n",
    "a_y <- c(0, 0, 0, 1, 1)\n",
    "a_dist_euclidienne <- sqrt(sum((a_x - a_y)^2))\n",
    "a_sim_cosinus <- sum(a_x * a_y) / sqrt(sum(a_x^2) + sum(a_y^2))\n",
    "\n",
    "#Distance euclidienne entre a_x et a_y: 2\n",
    "print(a_dist_euclidienne)\n",
    "\n",
    "# or using the integrated method dist: 2\n",
    "print(dist(rbind(a_x, a_y)))\n",
    "\n",
    "# Simularite cosinus entre a_x et a_y: 0 (means orthogonal)\n",
    "print(a_sim_cosinus)\n",
    "\n",
    "# Correlation entre a_x et a_y: -0.6666667\n",
    "cor(a_x, a_y)"
   ]
  },
  {
   "cell_type": "markdown",
   "metadata": {},
   "source": [
    "### Question 1.2 B"
   ]
  },
  {
   "cell_type": "code",
   "execution_count": 15,
   "metadata": {
    "collapsed": false
   },
   "outputs": [
    {
     "data": {
      "text/html": [
       "1"
      ],
      "text/latex": [
       "1"
      ],
      "text/markdown": [
       "1"
      ],
      "text/plain": [
       "[1] 1"
      ]
     },
     "metadata": {},
     "output_type": "display_data"
    }
   ],
   "source": [
    "sum(x)"
   ]
  },
  {
   "cell_type": "code",
   "execution_count": 22,
   "metadata": {
    "collapsed": true
   },
   "outputs": [],
   "source": [
    "?print"
   ]
  },
  {
   "cell_type": "code",
   "execution_count": null,
   "metadata": {
    "collapsed": true
   },
   "outputs": [],
   "source": []
  }
 ],
 "metadata": {
  "anaconda-cloud": {},
  "kernelspec": {
   "display_name": "R",
   "language": "R",
   "name": "ir"
  },
  "language_info": {
   "codemirror_mode": "r",
   "file_extension": ".r",
   "mimetype": "text/x-r-source",
   "name": "R",
   "pygments_lexer": "r",
   "version": "3.3.1"
  }
 },
 "nbformat": 4,
 "nbformat_minor": 0
}
