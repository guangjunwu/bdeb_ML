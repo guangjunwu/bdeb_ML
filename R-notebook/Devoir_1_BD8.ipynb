{
 "cells": [
  {
   "cell_type": "markdown",
   "metadata": {},
   "source": [
    "# Devoir 1 BD8 (Guangjun Wu: 1595455)"
   ]
  },
  {
   "cell_type": "markdown",
   "metadata": {},
   "source": [
    "### Question 1.2 A"
   ]
  },
  {
   "cell_type": "code",
   "execution_count": 43,
   "metadata": {
    "collapsed": false
   },
   "outputs": [
    {
     "name": "stdout",
     "output_type": "stream",
     "text": [
      "[1] 2\n",
      "    a_x\n",
      "a_y   2\n",
      "[1] 0\n"
     ]
    },
    {
     "data": {
      "text/html": [
       "-0.666666666666667"
      ],
      "text/latex": [
       "-0.666666666666667"
      ],
      "text/markdown": [
       "-0.666666666666667"
      ],
      "text/plain": [
       "[1] -0.6666667"
      ]
     },
     "metadata": {},
     "output_type": "display_data"
    }
   ],
   "source": [
    "a_x <- c(1, 1, 0, 0, 0)\n",
    "a_y <- c(0, 0, 0, 1, 1)\n",
    "a_dist_euclidienne <- sqrt(sum((a_x - a_y)^2))\n",
    "a_sim_cosinus <- sum(a_x * a_y) / sqrt(sum(a_x^2) + sum(a_y^2))\n",
    "\n",
    "#Distance euclidienne entre a_x et a_y: 2\n",
    "print(a_dist_euclidienne)\n",
    "\n",
    "# or using the integrated method dist: 2\n",
    "print(dist(rbind(a_x, a_y)))\n",
    "\n",
    "# Simularite cosinus entre a_x et a_y: 0 (means orthogonal)\n",
    "print(a_sim_cosinus)\n",
    "\n",
    "# Correlation entre a_x et a_y: -0.6666667\n",
    "cor(a_x, a_y)"
   ]
  },
  {
   "cell_type": "markdown",
   "metadata": {},
   "source": [
    "### Question 1.2 B"
   ]
  },
  {
   "cell_type": "code",
   "execution_count": 15,
   "metadata": {
    "collapsed": false
   },
   "outputs": [
    {
     "data": {
      "text/html": [
       "1"
      ],
      "text/latex": [
       "1"
      ],
      "text/markdown": [
       "1"
      ],
      "text/plain": [
       "[1] 1"
      ]
     },
     "metadata": {},
     "output_type": "display_data"
    }
   ],
   "source": [
    "sum(x)"
   ]
  },
  {
   "cell_type": "markdown",
   "metadata": {
    "collapsed": true
   },
   "source": [
    "# Exercice 3 :   Clustering avec le k-means et HC\n",
    "## Q 3.1 "
   ]
  },
  {
   "cell_type": "code",
   "execution_count": 10,
   "metadata": {
    "collapsed": false
   },
   "outputs": [
    {
     "ename": "ERROR",
     "evalue": "Error in library(plotly): there is no package called 'plotly'\n",
     "output_type": "error",
     "traceback": [
      "Error in library(plotly): there is no package called 'plotly'\nTraceback:\n",
      "1. library(plotly)",
      "2. stop(txt, domain = NA)"
     ]
    }
   ],
   "source": [
    "labels <- c(\"A\", \"B\", \"C\", \"D\", \"E\", \"F\", \"G\", \"H\", \"I\", \"J\")\n",
    "X <- c(2, 7, 3, 5, 7, 6, 6, 8, 2, 3)\n",
    "Y <- c(4, 3, 5, 3, 4, 8, 5, 4, 5, 7)\n",
    "\n",
    "df <- data.frame(labels, X, Y)\n",
    "examples <- df\n",
    "examples$labels <- NULL\n",
    "hc <- hclust(dist(examples), method=\"ave\")\n",
    "\n",
    "# Scatter Plot\n",
    "library(plotly)\n",
    "#plot(hc, hang = -1, labels=df$labels)"
   ]
  },
  {
   "cell_type": "code",
   "execution_count": null,
   "metadata": {
    "collapsed": true
   },
   "outputs": [],
   "source": []
  }
 ],
 "metadata": {
  "anaconda-cloud": {},
  "kernelspec": {
   "display_name": "R",
   "language": "R",
   "name": "ir"
  },
  "language_info": {
   "codemirror_mode": "r",
   "file_extension": ".r",
   "mimetype": "text/x-r-source",
   "name": "R",
   "pygments_lexer": "r",
   "version": "3.3.0"
  }
 },
 "nbformat": 4,
 "nbformat_minor": 0
}
