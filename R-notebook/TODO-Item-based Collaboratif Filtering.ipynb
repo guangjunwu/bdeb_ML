{
 "cells": [
  {
   "cell_type": "markdown",
   "metadata": {},
   "source": [
    "# Manipulation 1 :  Fonctions du package recommenderlab\n",
    "## Objectif :  présenter un aperçu rapide des fonctions du package « recommenderlab »\n",
    "\n",
    "\n",
    "### Tout d'abord, nous allons l'installer, si on n'a pas déjà fait:\n"
   ]
  },
  {
   "cell_type": "code",
   "execution_count": 4,
   "metadata": {
    "collapsed": false
   },
   "outputs": [],
   "source": [
    "# Charger les packages\n",
    "# votre code ici \n",
    "\n",
    "# if(!\"recommenderlab\" %in% rownames(installed.packages())){ install.packages(\"recommenderlab\")}\n"
   ]
  },
  {
   "cell_type": "markdown",
   "metadata": {},
   "source": [
    "Maintenant, nous pouvons charger le package. Lorsque, en utilisant la fonction d'aide, nous pouvons jeter un coup d'oeil à sa documentation: help(package = \"recommenderlab\")"
   ]
  },
  {
   "cell_type": "code",
   "execution_count": 19,
   "metadata": {
    "collapsed": false
   },
   "outputs": [],
   "source": [
    "# Charger la librairie pour la recommendation \n",
    "# votre code ici\n",
    "library(\"recommenderlab\")"
   ]
  },
  {
   "cell_type": "markdown",
   "metadata": {},
   "source": [
    "Les données manipulé dans ce TP contiennent des composantes aléatoires.\n",
    "Pour ne pas reproduire le même résultat on va utiliser set.seed().\n",
    "\n",
    "Pratique lorsqu'on fait des simulations afin que ce ne soient pas les mêmes à chaque fois."
   ]
  },
  {
   "cell_type": "code",
   "execution_count": 6,
   "metadata": {
    "collapsed": true
   },
   "outputs": [],
   "source": [
    "# Le set.seed\n",
    "# votre code ici\n",
    "set.seed(1)"
   ]
  },
  {
   "cell_type": "markdown",
   "metadata": {},
   "source": [
    "## Jeux de données\n",
    "\n",
    "Comme beaucoup d'autres packages R, recommenderlab contient des ensembles de données qui peuvent être\n",
    "utilisé directement sous R:"
   ]
  },
  {
   "cell_type": "code",
   "execution_count": 8,
   "metadata": {
    "collapsed": false
   },
   "outputs": [
    {
     "data": {
      "text/html": [
       "<ol class=list-inline>\n",
       "\t<li>\"Jester5k\"</li>\n",
       "\t<li>\"JesterJokes (Jester5k)\"</li>\n",
       "\t<li>\"MSWeb\"</li>\n",
       "\t<li>\"MovieLense\"</li>\n",
       "\t<li>\"MovieLenseMeta (MovieLense)\"</li>\n",
       "</ol>\n"
      ],
      "text/latex": [
       "\\begin{enumerate*}\n",
       "\\item \"Jester5k\"\n",
       "\\item \"JesterJokes (Jester5k)\"\n",
       "\\item \"MSWeb\"\n",
       "\\item \"MovieLense\"\n",
       "\\item \"MovieLenseMeta (MovieLense)\"\n",
       "\\end{enumerate*}\n"
      ],
      "text/markdown": [
       "1. \"Jester5k\"\n",
       "2. \"JesterJokes (Jester5k)\"\n",
       "3. \"MSWeb\"\n",
       "4. \"MovieLense\"\n",
       "5. \"MovieLenseMeta (MovieLense)\"\n",
       "\n",
       "\n"
      ],
      "text/plain": [
       "[1] \"Jester5k\"                    \"JesterJokes (Jester5k)\"     \n",
       "[3] \"MSWeb\"                       \"MovieLense\"                 \n",
       "[5] \"MovieLenseMeta (MovieLense)\""
      ]
     },
     "metadata": {},
     "output_type": "display_data"
    }
   ],
   "source": [
    "\n",
    "# votre code ici\n",
    "\n",
    "data_package <- data(package = \"recommenderlab\")\n",
    "data_package$results[, \"Item\"]"
   ]
  },
  {
   "cell_type": "markdown",
   "metadata": {},
   "source": [
    "\n",
    "#### Charger le jeux de données MovieLens"
   ]
  },
  {
   "cell_type": "code",
   "execution_count": 23,
   "metadata": {
    "collapsed": false
   },
   "outputs": [
    {
     "data": {
      "text/plain": [
       "943 x 1664 rating matrix of class 'realRatingMatrix' with 99392 ratings."
      ]
     },
     "metadata": {},
     "output_type": "display_data"
    }
   ],
   "source": [
    "\n",
    "# votre code ici\n",
    "\n",
    "data(MovieLense)\n",
    "MovieLense\n"
   ]
  },
  {
   "cell_type": "markdown",
   "metadata": {},
   "source": [
    "## La classe de rating matrices\n",
    "Dans cette section, nous allons faire une exploration sommaire MovieLens pour se familliariser avec les fonctions du \"recommenderlab\""
   ]
  },
  {
   "cell_type": "code",
   "execution_count": 11,
   "metadata": {
    "collapsed": false
   },
   "outputs": [
    {
     "data": {
      "text/html": [
       "\"realRatingMatrix\""
      ],
      "text/latex": [
       "\"realRatingMatrix\""
      ],
      "text/markdown": [
       "\"realRatingMatrix\""
      ],
      "text/plain": [
       "[1] \"realRatingMatrix\"\n",
       "attr(,\"package\")\n",
       "[1] \"recommenderlab\""
      ]
     },
     "metadata": {},
     "output_type": "display_data"
    },
    {
     "ename": "ERROR",
     "evalue": "Error in attr(, \"package\"): argument 1 is empty\n",
     "output_type": "error",
     "traceback": [
      "Error in attr(, \"package\"): argument 1 is empty\nTraceback:\n"
     ]
    }
   ],
   "source": [
    "\n",
    "# votre code ici\n",
    "class(MovieLense)\n",
    "## [1] \"realRatingMatrix\"\n",
    "## attr(,\"package\")\n",
    "## [1] \"recommenderlab\"\n"
   ]
  },
  {
   "cell_type": "markdown",
   "metadata": {},
   "source": [
    "La classe realRatingMatrix contient des matrices creuses de ratings.\n",
    "Jetons un regard sur les méthodes que nous pouvons appliquer sur les objets de cette classe:"
   ]
  },
  {
   "cell_type": "code",
   "execution_count": 12,
   "metadata": {
    "collapsed": false,
    "scrolled": true
   },
   "outputs": [
    {
     "data": {
      "text/plain": [
       " [1] [                      [<-                    binarize              \n",
       " [4] calcPredictionAccuracy coerce                 colCounts             \n",
       " [7] colMeans               colSds                 colSums               \n",
       "[10] denormalize            dim                    dimnames              \n",
       "[13] dimnames<-             dissimilarity          evaluationScheme      \n",
       "[16] getData.frame          getList                getNormalize          \n",
       "[19] getRatingMatrix        getRatings             getTopNLists          \n",
       "[22] image                  normalize              nratings              \n",
       "[25] Recommender            removeKnownRatings     rowCounts             \n",
       "[28] rowMeans               rowSds                 rowSums               \n",
       "[31] sample                 show                   similarity            \n",
       "see '?methods' for accessing help and source code"
      ]
     },
     "metadata": {},
     "output_type": "display_data"
    }
   ],
   "source": [
    "# votre code ici\n",
    "\n",
    "methods(class = class(MovieLense))"
   ]
  },
  {
   "cell_type": "markdown",
   "metadata": {},
   "source": [
    "Certains procédés qui sont applicables à des matrices ont été redéfinies de manière plus optimale. Par exemple, nous pouvons utiliser \"dim\" pour extraire le nombre de lignes et de colonnes, et \"colSums\" pour calculer la somme de chaque colonne. \n",
    "\n",
    "En outre, il existe de nouvelles méthodes qui sont spécifiques pour les systèmes de recommandation."
   ]
  },
  {
   "cell_type": "markdown",
   "metadata": {},
   "source": [
    "Habituellement, matrices de rating sont des matrices creuses. Pour cette raison, la classe realRatingMatrix supporte un stockage compact des matrices creuses.\n",
    "##### Comparons la taille de MovieLense avec la matrice R correspondant:"
   ]
  },
  {
   "cell_type": "code",
   "execution_count": 13,
   "metadata": {
    "collapsed": false
   },
   "outputs": [
    {
     "data": {
      "text/plain": [
       "1335292 bytes"
      ]
     },
     "metadata": {},
     "output_type": "display_data"
    }
   ],
   "source": [
    "# votre code ici\n",
    "object.size(MovieLense)\n"
   ]
  },
  {
   "cell_type": "code",
   "execution_count": 14,
   "metadata": {
    "collapsed": false
   },
   "outputs": [
    {
     "data": {
      "text/plain": [
       "12688128 bytes"
      ]
     },
     "metadata": {},
     "output_type": "display_data"
    }
   ],
   "source": [
    "\n",
    "# votre code ici\n",
    "object.size(as(MovieLense, \"matrix\"))\n"
   ]
  },
  {
   "cell_type": "markdown",
   "metadata": {},
   "source": [
    "### Calcule des  similarités de matrices"
   ]
  },
  {
   "cell_type": "markdown",
   "metadata": {},
   "source": [
    "Les algorithmes de filtrage collaboratif sont basés sur la mesure de la similitude entre les utilisateurs ou entre les items. \n",
    "\n",
    "A cet effet, recommenderlab contient la fonction de similarité. \n",
    "\n",
    "Les méthodes prises en charge pour calculer les similitudes sont cosinus, pearson et jaccard.\n",
    "\n",
    "Par exemple, nous pourrions déterminer la similarité des cinq premiers utilisateurs. \n",
    "#### Calculons ce en utilisant la distance cosinus:"
   ]
  },
  {
   "cell_type": "code",
   "execution_count": 20,
   "metadata": {
    "collapsed": false
   },
   "outputs": [
    {
     "data": {
      "text/plain": [
       "           1          2          3\n",
       "2 0.16893670                      \n",
       "3 0.03827203 0.09706862           \n",
       "4 0.06634975 0.15310468 0.33343036"
      ]
     },
     "metadata": {},
     "output_type": "display_data"
    }
   ],
   "source": [
    "\n",
    "# votre code ici\n",
    "similarity_users <- similarity(MovieLense[1:4, ], method =\n",
    "\"cosine\", which = \"users\")\n",
    "\n",
    "similarity_users\n"
   ]
  },
  {
   "cell_type": "code",
   "execution_count": 12,
   "metadata": {
    "collapsed": false
   },
   "outputs": [],
   "source": [
    "\n",
    "# votre code ici\n",
    "\n"
   ]
  },
  {
   "cell_type": "markdown",
   "metadata": {},
   "source": [
    "Nous pouvons également convertir similarity_users dans une matrice et le visualiser :"
   ]
  },
  {
   "cell_type": "code",
   "execution_count": 21,
   "metadata": {
    "collapsed": false
   },
   "outputs": [
    {
     "data": {
      "text/html": [
       "<table>\n",
       "<thead><tr><th></th><th scope=col>1</th><th scope=col>2</th><th scope=col>3</th><th scope=col>4</th></tr></thead>\n",
       "<tbody>\n",
       "\t<tr><th scope=row>1</th><td>0.00000000</td><td>0.16893670</td><td>0.03827203</td><td>0.06634975</td></tr>\n",
       "\t<tr><th scope=row>2</th><td>0.16893670</td><td>0.00000000</td><td>0.09706862</td><td>0.15310468</td></tr>\n",
       "\t<tr><th scope=row>3</th><td>0.03827203</td><td>0.09706862</td><td>0.00000000</td><td>0.33343036</td></tr>\n",
       "\t<tr><th scope=row>4</th><td>0.06634975</td><td>0.15310468</td><td>0.33343036</td><td>0.00000000</td></tr>\n",
       "</tbody>\n",
       "</table>\n"
      ],
      "text/latex": [
       "\\begin{tabular}{r|llll}\n",
       "  & 1 & 2 & 3 & 4\\\\\n",
       "\\hline\n",
       "\t1 & 0.00000000 & 0.16893670 & 0.03827203 & 0.06634975\\\\\n",
       "\t2 & 0.16893670 & 0.00000000 & 0.09706862 & 0.15310468\\\\\n",
       "\t3 & 0.03827203 & 0.09706862 & 0.00000000 & 0.33343036\\\\\n",
       "\t4 & 0.06634975 & 0.15310468 & 0.33343036 & 0.00000000\\\\\n",
       "\\end{tabular}\n"
      ],
      "text/markdown": [
       "1. 0\n",
       "2. 0.168936700260326\n",
       "3. 0.0382720298044313\n",
       "4. 0.0663497452132158\n",
       "5. 0.168936700260326\n",
       "6. 0\n",
       "7. 0.0970686166442982\n",
       "8. 0.153104677844073\n",
       "9. 0.0382720298044313\n",
       "10. 0.0970686166442982\n",
       "11. 0\n",
       "12. 0.333430360650983\n",
       "13. 0.0663497452132158\n",
       "14. 0.153104677844073\n",
       "15. 0.333430360650983\n",
       "16. 0\n",
       "\n",
       "\n"
      ],
      "text/plain": [
       "           1          2          3          4\n",
       "1 0.00000000 0.16893670 0.03827203 0.06634975\n",
       "2 0.16893670 0.00000000 0.09706862 0.15310468\n",
       "3 0.03827203 0.09706862 0.00000000 0.33343036\n",
       "4 0.06634975 0.15310468 0.33343036 0.00000000"
      ]
     },
     "metadata": {},
     "output_type": "display_data"
    }
   ],
   "source": [
    "\n",
    "# votre code ici\n",
    "\n",
    "as.matrix(similarity_users)"
   ]
  },
  {
   "cell_type": "markdown",
   "metadata": {},
   "source": [
    "En utilisant image, nous pouvons visualiser la matrice. Chaque rangée et chaque colonne correspond à un utilisateur, et chaque cellule correspond à la similarité entre deux utilisateurs:"
   ]
  },
  {
   "cell_type": "code",
   "execution_count": 14,
   "metadata": {
    "collapsed": false
   },
   "outputs": [],
   "source": [
    "\n",
    "# votre code ici\n",
    "## image doesn't work in notebook\n",
    "\n",
    "## image(as.matrix(similarity_users), main = \"User similarity\")"
   ]
  },
  {
   "cell_type": "markdown",
   "metadata": {},
   "source": [
    "En utilisant la même approche, nous pouvons calculer et de visualiser la similitude entre les quatre premiers items:"
   ]
  },
  {
   "cell_type": "code",
   "execution_count": 24,
   "metadata": {
    "collapsed": false
   },
   "outputs": [
    {
     "data": {
      "text/html": [
       "<table>\n",
       "<thead><tr><th></th><th scope=col>Toy Story (1995)</th><th scope=col>GoldenEye (1995)</th><th scope=col>Four Rooms (1995)</th><th scope=col>Get Shorty (1995)</th></tr></thead>\n",
       "<tbody>\n",
       "\t<tr><th scope=row>Toy Story (1995)</th><td>0.0000000</td><td>0.4023822</td><td>0.3302448</td><td>0.4549379</td></tr>\n",
       "\t<tr><th scope=row>GoldenEye (1995)</th><td>0.4023822</td><td>0.0000000</td><td>0.2730692</td><td>0.5025708</td></tr>\n",
       "\t<tr><th scope=row>Four Rooms (1995)</th><td>0.3302448</td><td>0.2730692</td><td>0.0000000</td><td>0.3248664</td></tr>\n",
       "\t<tr><th scope=row>Get Shorty (1995)</th><td>0.4549379</td><td>0.5025708</td><td>0.3248664</td><td>0.0000000</td></tr>\n",
       "</tbody>\n",
       "</table>\n"
      ],
      "text/latex": [
       "\\begin{tabular}{r|llll}\n",
       "  & Toy Story (1995) & GoldenEye (1995) & Four Rooms (1995) & Get Shorty (1995)\\\\\n",
       "\\hline\n",
       "\tToy Story (1995) & 0.0000000 & 0.4023822 & 0.3302448 & 0.4549379\\\\\n",
       "\tGoldenEye (1995) & 0.4023822 & 0.0000000 & 0.2730692 & 0.5025708\\\\\n",
       "\tFour Rooms (1995) & 0.3302448 & 0.2730692 & 0.0000000 & 0.3248664\\\\\n",
       "\tGet Shorty (1995) & 0.4549379 & 0.5025708 & 0.3248664 & 0.0000000\\\\\n",
       "\\end{tabular}\n"
      ],
      "text/markdown": [
       "1. 0\n",
       "2. 0.40238217829961\n",
       "3. 0.330244787436003\n",
       "4. 0.454937917602603\n",
       "5. 0.40238217829961\n",
       "6. 0\n",
       "7. 0.273069175376714\n",
       "8. 0.502570770325884\n",
       "9. 0.330244787436003\n",
       "10. 0.273069175376714\n",
       "11. 0\n",
       "12. 0.324866385068105\n",
       "13. 0.454937917602603\n",
       "14. 0.502570770325884\n",
       "15. 0.324866385068105\n",
       "16. 0\n",
       "\n",
       "\n"
      ],
      "text/plain": [
       "                  Toy Story (1995) GoldenEye (1995) Four Rooms (1995)\n",
       "Toy Story (1995)         0.0000000        0.4023822         0.3302448\n",
       "GoldenEye (1995)         0.4023822        0.0000000         0.2730692\n",
       "Four Rooms (1995)        0.3302448        0.2730692         0.0000000\n",
       "Get Shorty (1995)        0.4549379        0.5025708         0.3248664\n",
       "                  Get Shorty (1995)\n",
       "Toy Story (1995)          0.4549379\n",
       "GoldenEye (1995)          0.5025708\n",
       "Four Rooms (1995)         0.3248664\n",
       "Get Shorty (1995)         0.0000000"
      ]
     },
     "metadata": {},
     "output_type": "display_data"
    }
   ],
   "source": [
    "\n",
    "# votre code ici\n",
    "\n",
    "similarity_items <- similarity(MovieLense[, 1:4], method =\"cosine\", which = \"items\")\n",
    "as.matrix(similarity_items)\n"
   ]
  },
  {
   "cell_type": "code",
   "execution_count": 15,
   "metadata": {
    "collapsed": false
   },
   "outputs": [],
   "source": [
    "\n",
    "# votre code ici\n",
    "\n",
    "## image(as.matrix(similarity_items), main = \"Item similarity\")\n"
   ]
  },
  {
   "cell_type": "markdown",
   "metadata": {},
   "source": [
    "## Méthodes de recommandation"
   ]
  },
  {
   "cell_type": "markdown",
   "metadata": {},
   "source": [
    "Le package recommenderlab contient quelques options pour l'algorithme de recommandation. Nous pouvons afficher le modèle applicable au realRatingMatrix objets en utilisant Registry recommender $ get_entries:"
   ]
  },
  {
   "cell_type": "code",
   "execution_count": 25,
   "metadata": {
    "collapsed": true
   },
   "outputs": [],
   "source": [
    "\n",
    "# votre code ici\n",
    "recommender_models <- recommenderRegistry$get_entries(dataType =\n",
    "\"realRatingMatrix\")\n",
    "\n"
   ]
  },
  {
   "cell_type": "code",
   "execution_count": 17,
   "metadata": {
    "collapsed": false
   },
   "outputs": [],
   "source": [
    "\n",
    "# votre code ici\n",
    "\n",
    "## install.packages(\"pander\")\n",
    "library(pander)"
   ]
  },
  {
   "cell_type": "code",
   "execution_count": 29,
   "metadata": {
    "collapsed": false
   },
   "outputs": [
    {
     "name": "stdout",
     "output_type": "stream",
     "text": [
      "\n",
      "----------------------------\n",
      "           model            \n",
      "----------------------------\n",
      "   IBCF_realRatingMatrix    \n",
      "\n",
      "  POPULAR_realRatingMatrix  \n",
      "\n",
      "  RANDOM_realRatingMatrix   \n",
      "\n",
      "RERECOMMEND_realRatingMatrix\n",
      "\n",
      "    SVD_realRatingMatrix    \n",
      "\n",
      "   SVDF_realRatingMatrix    \n",
      "\n",
      "   UBCF_realRatingMatrix    \n",
      "----------------------------\n",
      "\n"
     ]
    }
   ],
   "source": [
    "\n",
    "# votre code ici\n",
    "\n",
    "df_models <- data.frame(model = names(recommender_models))\n",
    "pander(df_models)\n"
   ]
  },
  {
   "cell_type": "markdown",
   "metadata": {},
   "source": [
    "Ce qui nous intéresse c'est \"$IBCF\" et  \"$UBCF\""
   ]
  },
  {
   "cell_type": "code",
   "execution_count": 32,
   "metadata": {
    "collapsed": false
   },
   "outputs": [
    {
     "name": "stdout",
     "output_type": "stream",
     "text": [
      "\n",
      "------------------------------\n",
      "     parameter        default \n",
      "-------------------- ---------\n",
      "         k              30    \n",
      "\n",
      "       method         Cosine  \n",
      "\n",
      "     normalize        center  \n",
      "\n",
      "normalize_sim_matrix   FALSE  \n",
      "\n",
      "       alpha            0.5   \n",
      "\n",
      "     na_as_zero        FALSE  \n",
      "------------------------------\n",
      "\n"
     ]
    }
   ],
   "source": [
    "\n",
    "# votre code ici\n",
    "\n",
    "df_parameters <- data.frame(\n",
    "  parameter = names(recommender_models$IBCF_realRatingMatrix$parameters),\n",
    "  default = unlist(recommender_models$IBCF_realRatingMatrix$parameters)\n",
    ")\n",
    "rownames(df_parameters) <- NULL\n",
    "pander(head(df_parameters))\n",
    "# ou simplement avec \n",
    "# recommender_models$IBCF_realRatingMatrix$parameters\n"
   ]
  },
  {
   "cell_type": "markdown",
   "metadata": {},
   "source": [
    "# Manipulation 2 : Exploration des données MovieLens"
   ]
  },
  {
   "cell_type": "markdown",
   "metadata": {},
   "source": [
    "### 1 - Dimension"
   ]
  },
  {
   "cell_type": "code",
   "execution_count": 33,
   "metadata": {
    "collapsed": false
   },
   "outputs": [
    {
     "data": {
      "text/html": [
       "<ol class=list-inline>\n",
       "\t<li>943</li>\n",
       "\t<li>1664</li>\n",
       "</ol>\n"
      ],
      "text/latex": [
       "\\begin{enumerate*}\n",
       "\\item 943\n",
       "\\item 1664\n",
       "\\end{enumerate*}\n"
      ],
      "text/markdown": [
       "1. 943\n",
       "2. 1664\n",
       "\n",
       "\n"
      ],
      "text/plain": [
       "[1]  943 1664"
      ]
     },
     "metadata": {},
     "output_type": "display_data"
    }
   ],
   "source": [
    "\n",
    "# votre code ici\n",
    "dim(MovieLense)\n",
    "\n"
   ]
  },
  {
   "cell_type": "markdown",
   "metadata": {},
   "source": [
    "### 2- Structure"
   ]
  },
  {
   "cell_type": "code",
   "execution_count": 34,
   "metadata": {
    "collapsed": false
   },
   "outputs": [
    {
     "name": "stdout",
     "output_type": "stream",
     "text": [
      "Formal class 'realRatingMatrix' [package \"recommenderlab\"] with 2 slots\n",
      "  ..@ data     :Formal class 'dgCMatrix' [package \"Matrix\"] with 6 slots\n",
      "  .. .. ..@ i       : int [1:99392] 0 1 4 5 9 12 14 15 16 17 ...\n",
      "  .. .. ..@ p       : int [1:1665] 0 452 583 673 882 968 994 1386 1605 1904 ...\n",
      "  .. .. ..@ Dim     : int [1:2] 943 1664\n",
      "  .. .. ..@ Dimnames:List of 2\n",
      "  .. .. .. ..$ : chr [1:943] \"1\" \"2\" \"3\" \"4\" ...\n",
      "  .. .. .. ..$ : chr [1:1664] \"Toy Story (1995)\" \"GoldenEye (1995)\" \"Four Rooms (1995)\" \"Get Shorty (1995)\" ...\n",
      "  .. .. ..@ x       : num [1:99392] 5 4 4 4 4 3 1 5 4 5 ...\n",
      "  .. .. ..@ factors : list()\n",
      "  ..@ normalize: NULL\n"
     ]
    }
   ],
   "source": [
    "\n",
    "# votre code ici\n",
    "\n",
    "str(MovieLense)\n"
   ]
  },
  {
   "cell_type": "markdown",
   "metadata": {},
   "source": [
    "### 3- Explorer les valeurs des ratings\n"
   ]
  },
  {
   "cell_type": "code",
   "execution_count": 35,
   "metadata": {
    "collapsed": false
   },
   "outputs": [
    {
     "data": {
      "text/html": [
       "<ol class=list-inline>\n",
       "\t<li>5</li>\n",
       "\t<li>4</li>\n",
       "\t<li>0</li>\n",
       "\t<li>3</li>\n",
       "\t<li>1</li>\n",
       "\t<li>2</li>\n",
       "</ol>\n"
      ],
      "text/latex": [
       "\\begin{enumerate*}\n",
       "\\item 5\n",
       "\\item 4\n",
       "\\item 0\n",
       "\\item 3\n",
       "\\item 1\n",
       "\\item 2\n",
       "\\end{enumerate*}\n"
      ],
      "text/markdown": [
       "1. 5\n",
       "2. 4\n",
       "3. 0\n",
       "4. 3\n",
       "5. 1\n",
       "6. 2\n",
       "\n",
       "\n"
      ],
      "text/plain": [
       "[1] 5 4 0 3 1 2"
      ]
     },
     "metadata": {},
     "output_type": "display_data"
    }
   ],
   "source": [
    "\n",
    "# votre code ici\n",
    "\n",
    "vector_ratings <- as.vector(MovieLense@data)\n",
    "unique(vector_ratings)\n"
   ]
  },
  {
   "cell_type": "code",
   "execution_count": 36,
   "metadata": {
    "collapsed": false
   },
   "outputs": [
    {
     "name": "stdout",
     "output_type": "stream",
     "text": [
      "\n",
      "----------------------\n",
      " rating   occurrences \n",
      "-------- -------------\n",
      "   0        1469760   \n",
      "\n",
      "   1         6059     \n",
      "\n",
      "   2         11307    \n",
      "\n",
      "   3         27002    \n",
      "\n",
      "   4         33947    \n",
      "\n",
      "   5         21077    \n",
      "----------------------\n",
      "\n"
     ]
    }
   ],
   "source": [
    "\n",
    "# votre code ici\n",
    "\n",
    "table_ratings <- table(vector_ratings)\n",
    "df_ratings <- data.frame(\n",
    "  rating = names(table_ratings),\n",
    "  occurrences = as.vector(table_ratings)\n",
    "  )\n",
    "pander(head(df_ratings))\n"
   ]
  },
  {
   "cell_type": "markdown",
   "metadata": {},
   "source": [
    "Selon la documentation, une note égale à 0 représente une valeur manquante, afin que nous puissions les supprimer de notes de vecteur :\n",
    "\n",
    "\n"
   ]
  },
  {
   "cell_type": "code",
   "execution_count": 39,
   "metadata": {
    "collapsed": false
   },
   "outputs": [],
   "source": [
    "\n",
    "# votre code ici\n",
    "\n",
    "vector_ratings <- vector_ratings[vector_ratings != 0]"
   ]
  },
  {
   "cell_type": "markdown",
   "metadata": {},
   "source": [
    "### 4- Visualiser graphiquement les valeurs des ratings"
   ]
  },
  {
   "cell_type": "code",
   "execution_count": 24,
   "metadata": {
    "collapsed": false,
    "scrolled": true
   },
   "outputs": [],
   "source": [
    "\n",
    "# votre code ici\n",
    "vector_ratings <- factor(vector_ratings)\n",
    "\n",
    "# library(\"ggplot2\")\n",
    "\n",
    "# qplot doesn't work in notebook\n",
    "\n",
    "# qplot(vector_ratings) + ggtitle(\"Distribution of the ratings\")\n"
   ]
  },
  {
   "cell_type": "markdown",
   "metadata": {},
   "source": [
    "### 5- Explorer quels films ont été visionnés"
   ]
  },
  {
   "cell_type": "markdown",
   "metadata": {},
   "source": [
    "A partir de MovieLense, nous allons extraire des statistique en utilisant des méthodes suivantes:\n",
    "\n",
    "- colCounts: Ceci est le nombre de valeurs non manquantes pour chaque colonne\n",
    "- colMeans: Ceci est la valeur moyenne pour chaque colonne\n",
    "\n",
    "Par exemple, quels sont les films les plus vus ? Nous pouvons utiliser colCounts pour cette objectif. \n",
    "Tout d'abord, nous allons compter les vues pour chaque film:\n"
   ]
  },
  {
   "cell_type": "code",
   "execution_count": 42,
   "metadata": {
    "collapsed": false
   },
   "outputs": [],
   "source": [
    "\n",
    "# votre code ici\n",
    "views_per_movie <- colCounts(MovieLense)\n"
   ]
  },
  {
   "cell_type": "markdown",
   "metadata": {},
   "source": [
    "Ensuite, nous pouvons trier les films par nombre de vues:"
   ]
  },
  {
   "cell_type": "code",
   "execution_count": 43,
   "metadata": {
    "collapsed": true
   },
   "outputs": [],
   "source": [
    "\n",
    "# votre code ici\n",
    "table_views <- data.frame(\n",
    "    movie = names(views_per_movie),\n",
    "    views = views_per_movie\n",
    "    )\n",
    "  table_views <- table_views[order(table_views$views, decreasing = TRUE), ]\n",
    "\n"
   ]
  },
  {
   "cell_type": "markdown",
   "metadata": {},
   "source": [
    "#### Visualiser"
   ]
  },
  {
   "cell_type": "code",
   "execution_count": 44,
   "metadata": {
    "collapsed": false
   },
   "outputs": [],
   "source": [
    "\n",
    "# votre code ici\n",
    "\n",
    "# ggplot(table_views[1:6, ], aes(x = movie, y = views)) +\n",
    "#  geom_bar(stat=\"identity\") + \n",
    "#  theme(axis.text.x = element_text(angle = 45, hjust = 1)) + ggtitle(\"Number of views of the top movies\")\n"
   ]
  },
  {
   "cell_type": "markdown",
   "metadata": {},
   "source": [
    "### 6 Explorer les notes moyennes\n"
   ]
  },
  {
   "cell_type": "markdown",
   "metadata": {},
   "source": [
    "Nous pouvons identifier les meilleurs films notés en calculant la note moyenne de chacun d'eux. A cet effet, nous pouvons utiliser colMeans; il ignore automatiquement les 0s, car ils représentent des valeurs manquantes. Jetons un coup d'œil à la distribution de la moyenne des rating film :"
   ]
  },
  {
   "cell_type": "code",
   "execution_count": 45,
   "metadata": {
    "collapsed": true
   },
   "outputs": [],
   "source": [
    "\n",
    "# votre code ici\n",
    "average_ratings <- colMeans(MovieLense) \n",
    "\n"
   ]
  },
  {
   "cell_type": "markdown",
   "metadata": {},
   "source": [
    "#### Visulaiser\n"
   ]
  },
  {
   "cell_type": "code",
   "execution_count": 46,
   "metadata": {
    "collapsed": false
   },
   "outputs": [],
   "source": [
    "\n",
    "# votre code ici\n",
    "\n",
    "# qplot(average_ratings) + stat_bin(binwidth = 0.1) + ggtitle(\"Distribution of the average movie rating\")\n"
   ]
  },
  {
   "cell_type": "markdown",
   "metadata": {},
   "source": [
    "#### Filter les ratings "
   ]
  },
  {
   "cell_type": "code",
   "execution_count": 47,
   "metadata": {
    "collapsed": true
   },
   "outputs": [],
   "source": [
    "\n",
    "# votre code ici\n",
    "average_ratings_relevant <- average_ratings[views_per_movie > 100]\n"
   ]
  },
  {
   "cell_type": "markdown",
   "metadata": {},
   "source": [
    "#### Visualiser"
   ]
  },
  {
   "cell_type": "code",
   "execution_count": 48,
   "metadata": {
    "collapsed": false
   },
   "outputs": [],
   "source": [
    "\n",
    "# votre code ici\n",
    "# qplot(average_ratings_relevant) + stat_bin(binwidth = 0.1) + ggtitle(paste(\"Distribution of the relevant average ratings\"))\n"
   ]
  },
  {
   "cell_type": "markdown",
   "metadata": {},
   "source": [
    "### 7- Visualiser la matrice\n"
   ]
  },
  {
   "cell_type": "markdown",
   "metadata": {},
   "source": [
    "Nous pouvons visualiser la matrice en construisant une carte de chaleur dont les couleurs représentent les ratins. Chaque ligne de la matrice correspond à un utilisateur, chaque colonne pour un film, et chaque cellule à sa valeur de rating.  A cet effet, nous pouvons utiliser la méthode générique: image. Le package recommenderlab redéfini l'image de la méthode pour les objets realRatingMatrix.\n",
    "\n",
    "Construisons l'heatmap utilisant l'image:"
   ]
  },
  {
   "cell_type": "code",
   "execution_count": 49,
   "metadata": {
    "collapsed": false
   },
   "outputs": [],
   "source": [
    "\n",
    "# votre code ici\n",
    "\n",
    "# image(MovieLense, main = \"Heatmap of the rating matrix\")"
   ]
  },
  {
   "cell_type": "markdown",
   "metadata": {},
   "source": [
    "Si on veut zoomer et voir l’espace de la matrice avec une dimension réduite :\n"
   ]
  },
  {
   "cell_type": "code",
   "execution_count": 50,
   "metadata": {
    "collapsed": false
   },
   "outputs": [],
   "source": [
    "\n",
    "# votre code ici\n",
    "# image(MovieLense[1:10, 1:15], main = \"Heatmap of the first rows and columns\") \n"
   ]
  },
  {
   "cell_type": "markdown",
   "metadata": {},
   "source": [
    "# Manipulation 3 :  Préparation des données \n",
    "\n",
    "### Objectif :  préparer les données à utiliser par les algorithmes de recommandation\n",
    "### Démarche :\n",
    "#### 1.\tSélectionnez les données pertinentes.\n",
    "#### 2.\tNormaliser les données.\n"
   ]
  },
  {
   "cell_type": "markdown",
   "metadata": {},
   "source": [
    "Nous allons définir ratings_movies contenant la matrice que nous allons utiliser. Ça prend compte : \n",
    "- Les utilisateurs qui ont noté au moins 50 films\n",
    "- Les films qui ont été regardés au moins 100 fois\n",
    "\n",
    "Les points précédents sont définis dans le code suivant :\n"
   ]
  },
  {
   "cell_type": "markdown",
   "metadata": {},
   "source": [
    "### 1 - Sélection des données les plus pertinentes"
   ]
  },
  {
   "cell_type": "code",
   "execution_count": 51,
   "metadata": {
    "collapsed": false
   },
   "outputs": [
    {
     "data": {
      "text/plain": [
       "560 x 332 rating matrix of class 'realRatingMatrix' with 55298 ratings."
      ]
     },
     "metadata": {},
     "output_type": "display_data"
    }
   ],
   "source": [
    "\n",
    "# votre code ici\n",
    "\n",
    "ratings_movies <- MovieLense[rowCounts(MovieLense) > 50, colCounts(MovieLense) > 100]\n",
    "ratings_movies\n"
   ]
  },
  {
   "cell_type": "code",
   "execution_count": 52,
   "metadata": {
    "collapsed": false
   },
   "outputs": [],
   "source": [
    "\n",
    "# votre code ici\n"
   ]
  },
  {
   "cell_type": "markdown",
   "metadata": {},
   "source": [
    "### 2 - Exploration de données les plus pertinentes\n",
    "\n",
    "En utilisant la même approche que nous avons fait dans la section précédente, nous allons visualiser le top 2 pour cent des utilisateurs et des films dans la nouvelle matrice :\n"
   ]
  },
  {
   "cell_type": "code",
   "execution_count": 35,
   "metadata": {
    "collapsed": true
   },
   "outputs": [],
   "source": [
    "\n",
    "# votre code ici\n",
    "# visualize the top matrix\n",
    "min_movies <- quantile(rowCounts(ratings_movies), 0.98)\n",
    "min_users <- quantile(colCounts(ratings_movies), 0.98)\n",
    "\n",
    "\n"
   ]
  },
  {
   "cell_type": "code",
   "execution_count": 36,
   "metadata": {
    "collapsed": false
   },
   "outputs": [],
   "source": [
    "\n",
    "# votre code ici\n",
    "\n",
    "# image(ratings_movies[rowCounts(ratings_movies) > min_movies, colCounts(ratings_movies) > min_users], main = \"Heatmap of the top\n"
   ]
  },
  {
   "cell_type": "markdown",
   "metadata": {},
   "source": [
    "Comme nous l'avons déjà remarqué, certaines lignes sont plus sombres que les autres. Cela pourrait signifier que certains utilisateurs donnent des notes plus élevées à tous les films. Cependant, nous avons visualisé les meilleurs films seulement. Afin d'avoir un aperçu de tous les utilisateurs, nous allons jeter un coup d'œil à la distribution de la valeur du rating moyenne par l'utilisateur :"
   ]
  },
  {
   "cell_type": "markdown",
   "metadata": {},
   "source": [
    "#### valeur de rating moyenne pour les utilisateurs"
   ]
  },
  {
   "cell_type": "code",
   "execution_count": 53,
   "metadata": {
    "collapsed": false
   },
   "outputs": [],
   "source": [
    "\n",
    "# votre code ici\n",
    "average_ratings_per_user <- rowMeans(ratings_movies)\n",
    "\n",
    "#qplot(average_ratings_per_user) + stat_bin(binwidth = 0.1) + ggtitle(\"Distribution of the average rating per user\")\n"
   ]
  },
  {
   "cell_type": "markdown",
   "metadata": {},
   "source": [
    "###  3 - Normaliser les données\n"
   ]
  },
  {
   "cell_type": "markdown",
   "metadata": {},
   "source": [
    "Avoir les utilisateurs qui donnent des notes élevées (ou faible) à tous leurs films pourrait biaiser les résultats.\n",
    "\n",
    "Nous pouvons éliminer cet effet en normalisant les données de telle sorte que la note moyenne de chaque utilisateur est 0. On utilise pour cela la fonction suivante :"
   ]
  },
  {
   "cell_type": "code",
   "execution_count": 54,
   "metadata": {
    "collapsed": true
   },
   "outputs": [],
   "source": [
    "\n",
    "# votre code ici\n",
    "\n",
    "ratings_movies_norm <- normalize(ratings_movies)"
   ]
  },
  {
   "cell_type": "markdown",
   "metadata": {},
   "source": [
    "#### Regardons  à la note moyenne des ratings par utilisateurs:\n"
   ]
  },
  {
   "cell_type": "code",
   "execution_count": 55,
   "metadata": {
    "collapsed": false
   },
   "outputs": [
    {
     "data": {
      "text/html": [
       "0"
      ],
      "text/latex": [
       "0"
      ],
      "text/markdown": [
       "0"
      ],
      "text/plain": [
       "[1] 0"
      ]
     },
     "metadata": {},
     "output_type": "display_data"
    }
   ],
   "source": [
    "\n",
    "# votre code ici\n",
    "sum(rowMeans(ratings_movies_norm) > 0.00001)\n"
   ]
  },
  {
   "cell_type": "code",
   "execution_count": 56,
   "metadata": {
    "collapsed": false
   },
   "outputs": [],
   "source": [
    "\n",
    "# votre code ici\n",
    "# visualize the normalized matrix\n",
    "\n",
    "# image(ratings_movies_norm[rowCounts(ratings_movies_norm) > min_movies, colCounts(ratings_movies_norm) > min_users], \n",
    "#       main = \"Heatmap of the top users and movies\")\n",
    "\n"
   ]
  },
  {
   "cell_type": "markdown",
   "metadata": {},
   "source": [
    "# Manipulation 4 :  Préparation des données d’apprentissage et de test \n",
    "\n",
    "Nous avons défini ratings_movies dans la section précédente qui contient les données pertinentes à prendre en considération :  le sous-ensemble d'utilisateurs MovieLense qui ont classé au moins 50 films et des films qui ont été notés au moins 100 fois.\n",
    "\n",
    "L'algorithme normalise automatiquement les données, afin que nous puissions utiliser ratings_movies qui contient les utilisateurs et les films de MovieLense pertinents. Nous avons défini ratings_movies dans la section précédente qui contient les données pertinentes à prendre en considération :  le sous-ensemble d'utilisateurs MovieLense qui ont classé au moins 50 films et des films qui ont été notés au moins 100 fois.\n",
    "\n",
    "### 1 - Données d'apprentissage\n",
    "\n",
    "Premièrement, nous définissons au hasard le vecteur  which_train. Nous allons définir la probabilité de la formation définie comme 80 pour cent:\n",
    "\n"
   ]
  },
  {
   "cell_type": "code",
   "execution_count": 57,
   "metadata": {
    "collapsed": false
   },
   "outputs": [
    {
     "data": {
      "text/html": [
       "<ol class=list-inline>\n",
       "\t<li>TRUE</li>\n",
       "\t<li>TRUE</li>\n",
       "\t<li>TRUE</li>\n",
       "\t<li>FALSE</li>\n",
       "\t<li>TRUE</li>\n",
       "\t<li>FALSE</li>\n",
       "</ol>\n"
      ],
      "text/latex": [
       "\\begin{enumerate*}\n",
       "\\item TRUE\n",
       "\\item TRUE\n",
       "\\item TRUE\n",
       "\\item FALSE\n",
       "\\item TRUE\n",
       "\\item FALSE\n",
       "\\end{enumerate*}\n"
      ],
      "text/markdown": [
       "1. TRUE\n",
       "2. TRUE\n",
       "3. TRUE\n",
       "4. FALSE\n",
       "5. TRUE\n",
       "6. FALSE\n",
       "\n",
       "\n"
      ],
      "text/plain": [
       "[1]  TRUE  TRUE  TRUE FALSE  TRUE FALSE"
      ]
     },
     "metadata": {},
     "output_type": "display_data"
    }
   ],
   "source": [
    "\n",
    "# votre code ici\n",
    "which_train <- sample(x = c(TRUE, FALSE), size = nrow(ratings_movies),\n",
    "replace = TRUE, prob = c(0.8, 0.2))\n",
    "\n",
    "\n",
    "head(which_train)\n",
    "\n"
   ]
  },
  {
   "cell_type": "code",
   "execution_count": 58,
   "metadata": {
    "collapsed": true
   },
   "outputs": [],
   "source": [
    "\n",
    "# votre code ici\n",
    "#Let's define the training and the test sets:\n",
    "recc_data_train <- ratings_movies[which_train, ]\n",
    "\n",
    "recc_data_test <- ratings_movies[!which_train, ]\n",
    "\n"
   ]
  },
  {
   "cell_type": "code",
   "execution_count": 59,
   "metadata": {
    "collapsed": false
   },
   "outputs": [
    {
     "data": {
      "text/plain": [
       "451 x 332 rating matrix of class 'realRatingMatrix' with 43846 ratings."
      ]
     },
     "metadata": {},
     "output_type": "display_data"
    }
   ],
   "source": [
    "\n",
    "# votre code ici\n",
    "recc_data_train\n"
   ]
  },
  {
   "cell_type": "code",
   "execution_count": 60,
   "metadata": {
    "collapsed": false
   },
   "outputs": [
    {
     "data": {
      "text/plain": [
       "109 x 332 rating matrix of class 'realRatingMatrix' with 11452 ratings."
      ]
     },
     "metadata": {},
     "output_type": "display_data"
    }
   ],
   "source": [
    "\n",
    "# votre code ici\n",
    "recc_data_test\n"
   ]
  },
  {
   "cell_type": "markdown",
   "metadata": {},
   "source": [
    "#  Manipulation 5 : Construire le modèle de recommandation\n",
    "\n",
    "\n",
    "### 1- Fontion du Item-Based Collaboratif Filetering"
   ]
  },
  {
   "cell_type": "code",
   "execution_count": 61,
   "metadata": {
    "collapsed": false
   },
   "outputs": [],
   "source": [
    "\n",
    "# votre code ici\n",
    "recommender_models <- recommenderRegistry$get_entries(dataType = \"realRatingMatrix\")\n"
   ]
  },
  {
   "cell_type": "code",
   "execution_count": 62,
   "metadata": {
    "collapsed": false
   },
   "outputs": [
    {
     "name": "stdout",
     "output_type": "stream",
     "text": [
      "\n",
      "------------------------------\n",
      "     parameter        default \n",
      "-------------------- ---------\n",
      "         k              30    \n",
      "\n",
      "       method         Cosine  \n",
      "\n",
      "     normalize        center  \n",
      "\n",
      "normalize_sim_matrix   FALSE  \n",
      "\n",
      "       alpha            0.5   \n",
      "\n",
      "     na_as_zero        FALSE  \n",
      "------------------------------\n",
      "\n"
     ]
    }
   ],
   "source": [
    "list_parameters <- recommender_models$IBCF_realRatingMatrix$parameters\n",
    "  df_paramters <- data.frame(\n",
    "    parameter = names(list_parameters),\n",
    "    default = unlist(list_parameters)\n",
    "    )\n",
    "  rownames(df_paramters) <- NULL\n",
    "pander(df_paramters)\n"
   ]
  },
  {
   "cell_type": "markdown",
   "metadata": {},
   "source": [
    "### 2 - Construction du modèle de recommandation\n",
    "\n"
   ]
  },
  {
   "cell_type": "markdown",
   "metadata": {},
   "source": [
    "Certains paramètres importants sont les suivants :\n",
    "* k : Dans la première étape, l'algorithme calcule les similitudes entre chaque paire d'items. Ensuite, pour chaque item, il identifie ses k items les plus similaires et les stocke.\n",
    "* Méthode : Ceci est la fonction de similarité. Par défaut, il est Cosinus. Un autre option populaire est pearson.\n",
    "\n",
    "nous fixons k = 30, ce qui est la valeur par défaut. Nous sommes maintenant prêt à construire un modèle de recommender, comme cela :\n"
   ]
  },
  {
   "cell_type": "code",
   "execution_count": 63,
   "metadata": {
    "collapsed": false
   },
   "outputs": [
    {
     "data": {
      "text/plain": [
       "Recommender of type 'IBCF' for 'realRatingMatrix' \n",
       "learned using 451 users."
      ]
     },
     "metadata": {},
     "output_type": "display_data"
    },
    {
     "data": {
      "text/html": [
       "\"Recommender\""
      ],
      "text/latex": [
       "\"Recommender\""
      ],
      "text/markdown": [
       "\"Recommender\""
      ],
      "text/plain": [
       "[1] \"Recommender\"\n",
       "attr(,\"package\")\n",
       "[1] \"recommenderlab\""
      ]
     },
     "metadata": {},
     "output_type": "display_data"
    }
   ],
   "source": [
    "\n",
    "# votre code ici\n",
    "recc_model <- Recommender(data = recc_data_train,\n",
    "                            method = \"IBCF\",\n",
    "                            parameter = list(k = 30))\n",
    "  recc_model\n",
    "  class(recc_model)\n",
    "\n"
   ]
  },
  {
   "cell_type": "markdown",
   "metadata": {},
   "source": [
    "### 3- Explorer le modèle de recommender\n"
   ]
  },
  {
   "cell_type": "code",
   "execution_count": 46,
   "metadata": {
    "collapsed": false
   },
   "outputs": [],
   "source": [
    "\n",
    "# votre code ici\n",
    "\n"
   ]
  },
  {
   "cell_type": "markdown",
   "metadata": {},
   "source": [
    "#### model_details$sim contient la matrice de similarité. Voyons maintenant sa structure :\n"
   ]
  },
  {
   "cell_type": "code",
   "execution_count": 47,
   "metadata": {
    "collapsed": false
   },
   "outputs": [],
   "source": [
    "\n",
    "# votre code ici\n",
    "\n"
   ]
  },
  {
   "cell_type": "markdown",
   "metadata": {},
   "source": [
    "#### Visualiser la matrice"
   ]
  },
  {
   "cell_type": "code",
   "execution_count": 48,
   "metadata": {
    "collapsed": false
   },
   "outputs": [],
   "source": [
    "\n",
    "# votre code ici\n",
    "\n"
   ]
  },
  {
   "cell_type": "markdown",
   "metadata": {},
   "source": [
    "La plupart des valeurs sont égales à 0. La raison en est que chaque ligne ne contient que des éléments de k. Nous allons le vérifier:"
   ]
  },
  {
   "cell_type": "code",
   "execution_count": 49,
   "metadata": {
    "collapsed": false
   },
   "outputs": [],
   "source": [
    "\n",
    "# votre code ici\n",
    "\n"
   ]
  },
  {
   "cell_type": "code",
   "execution_count": 50,
   "metadata": {
    "collapsed": false
   },
   "outputs": [],
   "source": [
    "\n",
    "# votre code ici\n",
    "\n"
   ]
  },
  {
   "cell_type": "markdown",
   "metadata": {},
   "source": [
    "# Manipulation 6 : Application du modèle de recommender sur l'ensemble de test\n",
    "\n",
    "Démarche :  Nous allons définir n_recommended qui spécifie le nombre d'éléments de recommander à chaque utilisateur. \n",
    "1. Pour chaque utilisateur, l'algorithme extrait ses films notés. \n",
    "1. Pour chaque film, il identifie tous ses éléments similaires, à partir de la matrice de similarité. \n",
    "1. Ensuite, l'algorithme classe chaque item similaire de cette manière:\n",
    " * Extraire le rating d’utilisateur pour chaque item associé à cet item. La valeur du rating est utilisée en tant que poids.\n",
    " * Extraire la similitude de l’item avec les items qui lui sont associé\n",
    " * Multiplier chaque poids avec la similitude connexe.\n",
    " * Faire la somme\n",
    "\n",
    "Ensuite, l'algorithme identifie les n premières recommandations \n",
    "\n",
    "\n",
    "## 1 - Appliquer le modèle de recommandation sur le jeu de test\n",
    "Dans notre ça nous souhaitons recommander à chaque utilisateur 6 films. \n"
   ]
  },
  {
   "cell_type": "code",
   "execution_count": 65,
   "metadata": {
    "collapsed": false
   },
   "outputs": [
    {
     "data": {
      "text/plain": [
       "Recommendations as 'topNList' with n = 6 for 109 users. "
      ]
     },
     "metadata": {},
     "output_type": "display_data"
    }
   ],
   "source": [
    "# set variable value\n",
    "n_recommended <- 6\n",
    "\n",
    "recc_predicted <- predict(object = recc_model, newdata = recc_data_test, n = n_recommended)\n",
    "\n",
    "recc_predicted\n",
    "\n"
   ]
  },
  {
   "cell_type": "markdown",
   "metadata": {},
   "source": [
    "### 2 - inspecter le résultat"
   ]
  },
  {
   "cell_type": "code",
   "execution_count": 66,
   "metadata": {
    "collapsed": false
   },
   "outputs": [
    {
     "data": {
      "text/html": [
       "\"topNList\""
      ],
      "text/latex": [
       "\"topNList\""
      ],
      "text/markdown": [
       "\"topNList\""
      ],
      "text/plain": [
       "[1] \"topNList\"\n",
       "attr(,\"package\")\n",
       "[1] \"recommenderlab\""
      ]
     },
     "metadata": {},
     "output_type": "display_data"
    },
    {
     "data": {
      "text/html": [
       "<ol class=list-inline>\n",
       "\t<li>\"items\"</li>\n",
       "\t<li>\"ratings\"</li>\n",
       "\t<li>\"itemLabels\"</li>\n",
       "\t<li>\"n\"</li>\n",
       "</ol>\n"
      ],
      "text/latex": [
       "\\begin{enumerate*}\n",
       "\\item \"items\"\n",
       "\\item \"ratings\"\n",
       "\\item \"itemLabels\"\n",
       "\\item \"n\"\n",
       "\\end{enumerate*}\n"
      ],
      "text/markdown": [
       "1. \"items\"\n",
       "2. \"ratings\"\n",
       "3. \"itemLabels\"\n",
       "4. \"n\"\n",
       "\n",
       "\n"
      ],
      "text/plain": [
       "[1] \"items\"      \"ratings\"    \"itemLabels\" \"n\"         "
      ]
     },
     "metadata": {},
     "output_type": "display_data"
    }
   ],
   "source": [
    "\n",
    "# votre code ici\n",
    "\n",
    "class(recc_predicted)\n",
    "\n",
    "slotNames(recc_predicted)\n",
    "\n",
    "\n"
   ]
  },
  {
   "cell_type": "markdown",
   "metadata": {},
   "source": [
    "Les slotNames sont:\n",
    "* items : Ceci est la liste avec les indices des items recommandés pour chaque utilisateur\n",
    "* itemLabels: Ceci est le nom des items\n",
    "* n: Ceci est le nombre de recommandations\n",
    "\n",
    "Par exemple, ce sont les recommandations pour le premier utilisateur :"
   ]
  },
  {
   "cell_type": "code",
   "execution_count": 67,
   "metadata": {
    "collapsed": false
   },
   "outputs": [
    {
     "data": {
      "text/html": [
       "<ol class=list-inline>\n",
       "\t<li>278</li>\n",
       "\t<li>85</li>\n",
       "\t<li>165</li>\n",
       "\t<li>271</li>\n",
       "\t<li>193</li>\n",
       "\t<li>97</li>\n",
       "</ol>\n"
      ],
      "text/latex": [
       "\\begin{enumerate*}\n",
       "\\item 278\n",
       "\\item 85\n",
       "\\item 165\n",
       "\\item 271\n",
       "\\item 193\n",
       "\\item 97\n",
       "\\end{enumerate*}\n"
      ],
      "text/markdown": [
       "1. 278\n",
       "2. 85\n",
       "3. 165\n",
       "4. 271\n",
       "5. 193\n",
       "6. 97\n",
       "\n",
       "\n"
      ],
      "text/plain": [
       "[1] 278  85 165 271 193  97"
      ]
     },
     "metadata": {},
     "output_type": "display_data"
    }
   ],
   "source": [
    "\n",
    "# Par exemple, ce sont les recommandations pour le premier utilisateur :\n",
    "recc_predicted@items[[1]]\n",
    "\n",
    "# votre code ici\n",
    "\n"
   ]
  },
  {
   "cell_type": "code",
   "execution_count": 69,
   "metadata": {
    "collapsed": false
   },
   "outputs": [
    {
     "name": "stdout",
     "output_type": "stream",
     "text": [
      "\n",
      "----------------------------------\n",
      " index            movie           \n",
      "------- --------------------------\n",
      "  278   Killing Fields, The (1984)\n",
      "\n",
      "  85      Reservoir Dogs (1992)   \n",
      "\n",
      "  165         Contact (1997)      \n",
      "\n",
      "  271       Annie Hall (1977)     \n",
      "\n",
      "  193    L.A. Confidential (1997) \n",
      "\n",
      "  97          Brazil (1985)       \n",
      "----------------------------------\n",
      "\n"
     ]
    }
   ],
   "source": [
    "# Nous pouvons extraire les noms des films recommandés avec recc_predicted@item\n",
    "\n",
    "# votre code ici\n",
    "recc_user_1 <- recc_predicted@items[[1]]\n",
    "movies_user_1 <- recc_predicted@itemLabels[recc_user_1]\n",
    "\n",
    "# visualiser\n",
    "\n",
    "table_user_1 <- data.frame(index = recc_user_1, movie = movies_user_1)\n",
    "pander(table_user_1)\n",
    "\n"
   ]
  },
  {
   "cell_type": "code",
   "execution_count": 70,
   "metadata": {
    "collapsed": false
   },
   "outputs": [
    {
     "data": {
      "text/html": [
       "<ol class=list-inline>\n",
       "\t<li>6</li>\n",
       "\t<li>109</li>\n",
       "</ol>\n"
      ],
      "text/latex": [
       "\\begin{enumerate*}\n",
       "\\item 6\n",
       "\\item 109\n",
       "\\end{enumerate*}\n"
      ],
      "text/markdown": [
       "1. 6\n",
       "2. 109\n",
       "\n",
       "\n"
      ],
      "text/plain": [
       "[1]   6 109"
      ]
     },
     "metadata": {},
     "output_type": "display_data"
    }
   ],
   "source": [
    "#Nous pouvons définir une matrice avec les recommandations pour chaque utilisateur :\n",
    "\n",
    "\n",
    "# votre code ici\n",
    "recc_matrix <- sapply(recc_predicted@items, function(x){\n",
    "        colnames(ratings_movies)[x]\n",
    "        })\n",
    "dim(recc_matrix)\n",
    "\n"
   ]
  },
  {
   "cell_type": "code",
   "execution_count": 71,
   "metadata": {
    "collapsed": false
   },
   "outputs": [
    {
     "name": "stdout",
     "output_type": "stream",
     "text": [
      "\n",
      "----------------------------------------------------------------------------\n",
      "            5                          7                        8           \n",
      "-------------------------- ------------------------- -----------------------\n",
      "Killing Fields, The (1984) Good Will Hunting (1997)        Babe (1995)      \n",
      "\n",
      "  Reservoir Dogs (1992)    As Good As It Gets (1997) Mighty Aphrodite (1995)\n",
      "\n",
      "      Contact (1997)       This Is Spinal Tap (1984)     Ed Wood (1994)     \n",
      "\n",
      "    Annie Hall (1977)        Trainspotting (1996)      Hoop Dreams (1994)   \n",
      "\n",
      " L.A. Confidential (1997)       Titanic (1997)            Fargo (1996)      \n",
      "\n",
      "      Brazil (1985)             Amistad (1997)          Lone Star (1996)    \n",
      "----------------------------------------------------------------------------\n",
      "\n",
      "Table: Table continues below\n",
      "\n",
      " \n",
      "--------------------------\n",
      "            23            \n",
      "--------------------------\n",
      "     Big Night (1996)     \n",
      "\n",
      "Wrong Trousers, The (1993)\n",
      "\n",
      " L.A. Confidential (1997) \n",
      "\n",
      "  Secrets & Lies (1996)   \n",
      "\n",
      "North by Northwest (1959) \n",
      "\n",
      "Maltese Falcon, The (1941)\n",
      "--------------------------\n",
      "\n"
     ]
    }
   ],
   "source": [
    "#Puis, visualiser les recommandations pour les 4 premiers utilisateurs : \n",
    "\n",
    "# votre code ici\n",
    "  pander(recc_matrix[, 1:4])\n",
    "\n"
   ]
  },
  {
   "cell_type": "markdown",
   "metadata": {},
   "source": [
    "### 3-\tLes films les plus recommandés\n"
   ]
  },
  {
   "cell_type": "code",
   "execution_count": 72,
   "metadata": {
    "collapsed": true
   },
   "outputs": [],
   "source": [
    "\n",
    "# votre code ici\n",
    "\n",
    "number_of_items <- factor(table(recc_matrix))\n",
    "chart_title <- \"Distribution of the number of items for IBCF\"\n",
    "\n",
    "\n"
   ]
  },
  {
   "cell_type": "code",
   "execution_count": 73,
   "metadata": {
    "collapsed": false
   },
   "outputs": [],
   "source": [
    "# visualiser \n",
    "\n",
    "# votre code ici\n",
    "\n",
    "# qplot(number_of_items) + ggtitle(chart_title)\n"
   ]
  },
  {
   "cell_type": "markdown",
   "metadata": {},
   "source": [
    "#### Le film le plus populaire"
   ]
  },
  {
   "cell_type": "code",
   "execution_count": 74,
   "metadata": {
    "collapsed": false
   },
   "outputs": [
    {
     "data": {
      "text/html": [
       "<table>\n",
       "<thead><tr><th></th><th scope=col>names.number_of_items_top.</th><th scope=col>number_of_items_top</th></tr></thead>\n",
       "<tbody>\n",
       "\t<tr><th scope=row>Good Will Hunting (1997)</th><td>Good Will Hunting (1997)</td><td>11                      </td></tr>\n",
       "\t<tr><th scope=row>12 Angry Men (1957)</th><td>12 Angry Men (1957)</td><td>10                 </td></tr>\n",
       "\t<tr><th scope=row>Cinema Paradiso (1988)</th><td>Cinema Paradiso (1988)</td><td>10                    </td></tr>\n",
       "\t<tr><th scope=row>Close Shave, A (1995)</th><td>Close Shave, A (1995)</td><td>10                   </td></tr>\n",
       "</tbody>\n",
       "</table>\n"
      ],
      "text/latex": [
       "\\begin{tabular}{r|ll}\n",
       "  & names.number\\_of\\_items\\_top. & number\\_of\\_items\\_top\\\\\n",
       "\\hline\n",
       "\tGood Will Hunting (1997) & Good Will Hunting (1997) & 11                      \\\\\n",
       "\t12 Angry Men (1957) & 12 Angry Men (1957) & 10                 \\\\\n",
       "\tCinema Paradiso (1988) & Cinema Paradiso (1988) & 10                    \\\\\n",
       "\tClose Shave, A (1995) & Close Shave, A (1995) & 10                   \\\\\n",
       "\\end{tabular}\n"
      ],
      "text/plain": [
       "                         names.number_of_items_top. number_of_items_top\n",
       "Good Will Hunting (1997)   Good Will Hunting (1997)                  11\n",
       "12 Angry Men (1957)             12 Angry Men (1957)                  10\n",
       "Cinema Paradiso (1988)       Cinema Paradiso (1988)                  10\n",
       "Close Shave, A (1995)         Close Shave, A (1995)                  10"
      ]
     },
     "metadata": {},
     "output_type": "display_data"
    }
   ],
   "source": [
    "\n",
    "# votre code ici\n",
    "number_of_items_sorted <- sort(number_of_items, decreasing = TRUE)\n",
    "number_of_items_top <- head(number_of_items_sorted, n = 4)\n",
    "table_top <- data.frame(names(number_of_items_top),\n",
    "number_of_items_top)\n",
    "table_top\n",
    "\n"
   ]
  },
  {
   "cell_type": "code",
   "execution_count": null,
   "metadata": {
    "collapsed": true
   },
   "outputs": [],
   "source": []
  }
 ],
 "metadata": {
  "kernelspec": {
   "display_name": "R",
   "language": "R",
   "name": "ir"
  },
  "language_info": {
   "codemirror_mode": "r",
   "file_extension": ".r",
   "mimetype": "text/x-r-source",
   "name": "R",
   "pygments_lexer": "r",
   "version": "3.3.0"
  }
 },
 "nbformat": 4,
 "nbformat_minor": 0
}
